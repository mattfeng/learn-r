{
 "cells": [
  {
   "cell_type": "markdown",
   "id": "3c3dfbac",
   "metadata": {
    "deletable": false,
    "editable": false,
    "run_control": {
     "frozen": true
    }
   },
   "source": [
    "## 5.1 Atomic Vectors"
   ]
  },
  {
   "cell_type": "markdown",
   "id": "3ab50608",
   "metadata": {
    "deletable": false,
    "editable": false,
    "run_control": {
     "frozen": true
    }
   },
   "source": [
    "## 5.2 Attributes"
   ]
  },
  {
   "cell_type": "markdown",
   "id": "6d88277a",
   "metadata": {
    "deletable": false,
    "editable": false,
    "run_control": {
     "frozen": true
    }
   },
   "source": [
    "### Names"
   ]
  },
  {
   "cell_type": "code",
   "execution_count": 13,
   "id": "78c2c84f",
   "metadata": {},
   "outputs": [
    {
     "data": {
      "text/plain": [
       "NULL"
      ]
     },
     "metadata": {},
     "output_type": "display_data"
    }
   ],
   "source": [
    "die <- 1:6\n",
    "attributes(die)"
   ]
  },
  {
   "cell_type": "markdown",
   "id": "39b96aba",
   "metadata": {
    "deletable": false,
    "editable": false,
    "run_control": {
     "frozen": true
    }
   },
   "source": [
    "Most common attributes given to vectors are:\n",
    "- names\n",
    "- dimensions\n",
    "- classes"
   ]
  },
  {
   "cell_type": "code",
   "execution_count": 14,
   "id": "c947adf4",
   "metadata": {},
   "outputs": [],
   "source": [
    "names(die) <- c(\"one\", \"two\", \"three\", \"four\", \"five\", \"six\")"
   ]
  },
  {
   "cell_type": "code",
   "execution_count": 15,
   "id": "7f9ed423",
   "metadata": {},
   "outputs": [
    {
     "data": {
      "text/html": [
       "<style>\n",
       ".list-inline {list-style: none; margin:0; padding: 0}\n",
       ".list-inline>li {display: inline-block}\n",
       ".list-inline>li:not(:last-child)::after {content: \"\\00b7\"; padding: 0 .5ex}\n",
       "</style>\n",
       "<ol class=list-inline><li>'one'</li><li>'two'</li><li>'three'</li><li>'four'</li><li>'five'</li><li>'six'</li></ol>\n"
      ],
      "text/latex": [
       "\\begin{enumerate*}\n",
       "\\item 'one'\n",
       "\\item 'two'\n",
       "\\item 'three'\n",
       "\\item 'four'\n",
       "\\item 'five'\n",
       "\\item 'six'\n",
       "\\end{enumerate*}\n"
      ],
      "text/markdown": [
       "1. 'one'\n",
       "2. 'two'\n",
       "3. 'three'\n",
       "4. 'four'\n",
       "5. 'five'\n",
       "6. 'six'\n",
       "\n",
       "\n"
      ],
      "text/plain": [
       "[1] \"one\"   \"two\"   \"three\" \"four\"  \"five\"  \"six\"  "
      ]
     },
     "metadata": {},
     "output_type": "display_data"
    }
   ],
   "source": [
    "names(die)"
   ]
  },
  {
   "cell_type": "code",
   "execution_count": 16,
   "id": "3d4b3273",
   "metadata": {},
   "outputs": [
    {
     "data": {
      "text/html": [
       "<strong>$names</strong> = <style>\n",
       ".list-inline {list-style: none; margin:0; padding: 0}\n",
       ".list-inline>li {display: inline-block}\n",
       ".list-inline>li:not(:last-child)::after {content: \"\\00b7\"; padding: 0 .5ex}\n",
       "</style>\n",
       "<ol class=list-inline><li>'one'</li><li>'two'</li><li>'three'</li><li>'four'</li><li>'five'</li><li>'six'</li></ol>\n"
      ],
      "text/latex": [
       "\\textbf{\\$names} = \\begin{enumerate*}\n",
       "\\item 'one'\n",
       "\\item 'two'\n",
       "\\item 'three'\n",
       "\\item 'four'\n",
       "\\item 'five'\n",
       "\\item 'six'\n",
       "\\end{enumerate*}\n"
      ],
      "text/markdown": [
       "**$names** = 1. 'one'\n",
       "2. 'two'\n",
       "3. 'three'\n",
       "4. 'four'\n",
       "5. 'five'\n",
       "6. 'six'\n",
       "\n",
       "\n"
      ],
      "text/plain": [
       "$names\n",
       "[1] \"one\"   \"two\"   \"three\" \"four\"  \"five\"  \"six\"  \n"
      ]
     },
     "metadata": {},
     "output_type": "display_data"
    }
   ],
   "source": [
    "attributes(die)"
   ]
  },
  {
   "cell_type": "code",
   "execution_count": 17,
   "id": "438e7bbf",
   "metadata": {},
   "outputs": [
    {
     "data": {
      "text/html": [
       "<style>\n",
       ".dl-inline {width: auto; margin:0; padding: 0}\n",
       ".dl-inline>dt, .dl-inline>dd {float: none; width: auto; display: inline-block}\n",
       ".dl-inline>dt::after {content: \":\\0020\"; padding-right: .5ex}\n",
       ".dl-inline>dt:not(:first-of-type) {padding-left: .5ex}\n",
       "</style><dl class=dl-inline><dt>one</dt><dd>1</dd><dt>two</dt><dd>2</dd><dt>three</dt><dd>3</dd><dt>four</dt><dd>4</dd><dt>five</dt><dd>5</dd><dt>six</dt><dd>6</dd></dl>\n"
      ],
      "text/latex": [
       "\\begin{description*}\n",
       "\\item[one] 1\n",
       "\\item[two] 2\n",
       "\\item[three] 3\n",
       "\\item[four] 4\n",
       "\\item[five] 5\n",
       "\\item[six] 6\n",
       "\\end{description*}\n"
      ],
      "text/markdown": [
       "one\n",
       ":   1two\n",
       ":   2three\n",
       ":   3four\n",
       ":   4five\n",
       ":   5six\n",
       ":   6\n",
       "\n"
      ],
      "text/plain": [
       "  one   two three  four  five   six \n",
       "    1     2     3     4     5     6 "
      ]
     },
     "metadata": {},
     "output_type": "display_data"
    }
   ],
   "source": [
    "die"
   ]
  },
  {
   "cell_type": "code",
   "execution_count": 18,
   "id": "d2b90847",
   "metadata": {},
   "outputs": [
    {
     "data": {
      "text/html": [
       "<style>\n",
       ".list-inline {list-style: none; margin:0; padding: 0}\n",
       ".list-inline>li {display: inline-block}\n",
       ".list-inline>li:not(:last-child)::after {content: \"\\00b7\"; padding: 0 .5ex}\n",
       "</style>\n",
       "<ol class=list-inline><li>1</li><li>2</li><li>3</li><li>4</li><li>5</li><li>6</li></ol>\n"
      ],
      "text/latex": [
       "\\begin{enumerate*}\n",
       "\\item 1\n",
       "\\item 2\n",
       "\\item 3\n",
       "\\item 4\n",
       "\\item 5\n",
       "\\item 6\n",
       "\\end{enumerate*}\n"
      ],
      "text/markdown": [
       "1. 1\n",
       "2. 2\n",
       "3. 3\n",
       "4. 4\n",
       "5. 5\n",
       "6. 6\n",
       "\n",
       "\n"
      ],
      "text/plain": [
       "[1] 1 2 3 4 5 6"
      ]
     },
     "metadata": {},
     "output_type": "display_data"
    }
   ],
   "source": [
    "names(die) <- NULL\n",
    "die"
   ]
  },
  {
   "cell_type": "markdown",
   "id": "1fabc4e3",
   "metadata": {
    "deletable": false,
    "editable": false,
    "run_control": {
     "frozen": true
    }
   },
   "source": [
    "### Dim"
   ]
  },
  {
   "cell_type": "code",
   "execution_count": 21,
   "id": "a0363016",
   "metadata": {},
   "outputs": [
    {
     "data": {
      "text/html": [
       "<table class=\"dataframe\">\n",
       "<caption>A matrix: 2 × 3 of type int</caption>\n",
       "<tbody>\n",
       "\t<tr><td>1</td><td>3</td><td>5</td></tr>\n",
       "\t<tr><td>2</td><td>4</td><td>6</td></tr>\n",
       "</tbody>\n",
       "</table>\n"
      ],
      "text/latex": [
       "A matrix: 2 × 3 of type int\n",
       "\\begin{tabular}{lll}\n",
       "\t 1 & 3 & 5\\\\\n",
       "\t 2 & 4 & 6\\\\\n",
       "\\end{tabular}\n"
      ],
      "text/markdown": [
       "\n",
       "A matrix: 2 × 3 of type int\n",
       "\n",
       "| 1 | 3 | 5 |\n",
       "| 2 | 4 | 6 |\n",
       "\n"
      ],
      "text/plain": [
       "     [,1] [,2] [,3]\n",
       "[1,] 1    3    5   \n",
       "[2,] 2    4    6   "
      ]
     },
     "metadata": {},
     "output_type": "display_data"
    }
   ],
   "source": [
    "dim(die) <- c(2, 3)\n",
    "die"
   ]
  },
  {
   "cell_type": "code",
   "execution_count": 24,
   "id": "aa9a354f",
   "metadata": {},
   "outputs": [
    {
     "data": {
      "text/html": [
       "<style>\n",
       ".list-inline {list-style: none; margin:0; padding: 0}\n",
       ".list-inline>li {display: inline-block}\n",
       ".list-inline>li:not(:last-child)::after {content: \"\\00b7\"; padding: 0 .5ex}\n",
       "</style>\n",
       "<ol class=list-inline><li>1</li><li>2</li><li>3</li><li>4</li><li>5</li><li>6</li></ol>\n"
      ],
      "text/latex": [
       "\\begin{enumerate*}\n",
       "\\item 1\n",
       "\\item 2\n",
       "\\item 3\n",
       "\\item 4\n",
       "\\item 5\n",
       "\\item 6\n",
       "\\end{enumerate*}\n"
      ],
      "text/markdown": [
       "1. 1\n",
       "2. 2\n",
       "3. 3\n",
       "4. 4\n",
       "5. 5\n",
       "6. 6\n",
       "\n",
       "\n"
      ],
      "text/plain": [
       ", , 1\n",
       "\n",
       "     [,1] [,2]\n",
       "[1,]    1    2\n",
       "\n",
       ", , 2\n",
       "\n",
       "     [,1] [,2]\n",
       "[1,]    3    4\n",
       "\n",
       ", , 3\n",
       "\n",
       "     [,1] [,2]\n",
       "[1,]    5    6\n"
      ]
     },
     "metadata": {},
     "output_type": "display_data"
    }
   ],
   "source": [
    "dim(die) <- c(1, 2, 3)\n",
    "die"
   ]
  },
  {
   "cell_type": "markdown",
   "id": "a5e3f5c6",
   "metadata": {
    "deletable": false,
    "editable": false,
    "run_control": {
     "frozen": true
    }
   },
   "source": [
    "## 5.3 Matrices"
   ]
  },
  {
   "cell_type": "code",
   "execution_count": 28,
   "id": "4c03cb4b",
   "metadata": {},
   "outputs": [
    {
     "data": {
      "text/html": [
       "<table class=\"dataframe\">\n",
       "<caption>A matrix: 2 × 3 of type int</caption>\n",
       "<tbody>\n",
       "\t<tr><td>1</td><td>2</td><td>3</td></tr>\n",
       "\t<tr><td>4</td><td>5</td><td>6</td></tr>\n",
       "</tbody>\n",
       "</table>\n"
      ],
      "text/latex": [
       "A matrix: 2 × 3 of type int\n",
       "\\begin{tabular}{lll}\n",
       "\t 1 & 2 & 3\\\\\n",
       "\t 4 & 5 & 6\\\\\n",
       "\\end{tabular}\n"
      ],
      "text/markdown": [
       "\n",
       "A matrix: 2 × 3 of type int\n",
       "\n",
       "| 1 | 2 | 3 |\n",
       "| 4 | 5 | 6 |\n",
       "\n"
      ],
      "text/plain": [
       "     [,1] [,2] [,3]\n",
       "[1,] 1    2    3   \n",
       "[2,] 4    5    6   "
      ]
     },
     "metadata": {},
     "output_type": "display_data"
    }
   ],
   "source": [
    "m <- matrix(die, nrow=2, byrow=TRUE)\n",
    "m"
   ]
  },
  {
   "cell_type": "markdown",
   "id": "81393907",
   "metadata": {
    "deletable": false,
    "editable": false,
    "run_control": {
     "frozen": true
    }
   },
   "source": [
    "## 5.4 Arrays"
   ]
  },
  {
   "cell_type": "code",
   "execution_count": 31,
   "id": "c74a7d43",
   "metadata": {},
   "outputs": [
    {
     "data": {
      "text/html": [
       "<table class=\"dataframe\">\n",
       "<caption>A matrix: 5 × 2 of type chr</caption>\n",
       "<tbody>\n",
       "\t<tr><td>ace  </td><td>spades</td></tr>\n",
       "\t<tr><td>king </td><td>spades</td></tr>\n",
       "\t<tr><td>queen</td><td>spades</td></tr>\n",
       "\t<tr><td>jack </td><td>spades</td></tr>\n",
       "\t<tr><td>ten  </td><td>spades</td></tr>\n",
       "</tbody>\n",
       "</table>\n"
      ],
      "text/latex": [
       "A matrix: 5 × 2 of type chr\n",
       "\\begin{tabular}{ll}\n",
       "\t ace   & spades\\\\\n",
       "\t king  & spades\\\\\n",
       "\t queen & spades\\\\\n",
       "\t jack  & spades\\\\\n",
       "\t ten   & spades\\\\\n",
       "\\end{tabular}\n"
      ],
      "text/markdown": [
       "\n",
       "A matrix: 5 × 2 of type chr\n",
       "\n",
       "| ace   | spades |\n",
       "| king  | spades |\n",
       "| queen | spades |\n",
       "| jack  | spades |\n",
       "| ten   | spades |\n",
       "\n"
      ],
      "text/plain": [
       "     [,1]  [,2]  \n",
       "[1,] ace   spades\n",
       "[2,] king  spades\n",
       "[3,] queen spades\n",
       "[4,] jack  spades\n",
       "[5,] ten   spades"
      ]
     },
     "metadata": {},
     "output_type": "display_data"
    }
   ],
   "source": [
    "cards <- c(\"ace\", \"king\", \"queen\", \"jack\", \"ten\", \"spades\", \"spades\", \"spades\", \"spades\", \"spades\")\n",
    "m <- matrix(cards, ncol=2)\n",
    "m\n",
    "            "
   ]
  },
  {
   "cell_type": "markdown",
   "id": "765873bd",
   "metadata": {
    "deletable": false,
    "editable": false,
    "run_control": {
     "frozen": true
    }
   },
   "source": [
    "## 5.5 Class"
   ]
  },
  {
   "cell_type": "code",
   "execution_count": 33,
   "id": "b9c2ade5",
   "metadata": {},
   "outputs": [
    {
     "data": {
      "text/html": [
       "'integer'"
      ],
      "text/latex": [
       "'integer'"
      ],
      "text/markdown": [
       "'integer'"
      ],
      "text/plain": [
       "[1] \"integer\""
      ]
     },
     "metadata": {},
     "output_type": "display_data"
    }
   ],
   "source": [
    "die <- 1:6\n",
    "dim(die) <- c(2, 3)\n",
    "typeof(die)"
   ]
  },
  {
   "cell_type": "code",
   "execution_count": 34,
   "id": "17e2f467",
   "metadata": {},
   "outputs": [
    {
     "data": {
      "text/html": [
       "<style>\n",
       ".list-inline {list-style: none; margin:0; padding: 0}\n",
       ".list-inline>li {display: inline-block}\n",
       ".list-inline>li:not(:last-child)::after {content: \"\\00b7\"; padding: 0 .5ex}\n",
       "</style>\n",
       "<ol class=list-inline><li>'matrix'</li><li>'array'</li></ol>\n"
      ],
      "text/latex": [
       "\\begin{enumerate*}\n",
       "\\item 'matrix'\n",
       "\\item 'array'\n",
       "\\end{enumerate*}\n"
      ],
      "text/markdown": [
       "1. 'matrix'\n",
       "2. 'array'\n",
       "\n",
       "\n"
      ],
      "text/plain": [
       "[1] \"matrix\" \"array\" "
      ]
     },
     "metadata": {},
     "output_type": "display_data"
    }
   ],
   "source": [
    "class(die)"
   ]
  },
  {
   "cell_type": "code",
   "execution_count": 35,
   "id": "94145db8",
   "metadata": {},
   "outputs": [
    {
     "data": {
      "text/html": [
       "<strong>$dim</strong> = <style>\n",
       ".list-inline {list-style: none; margin:0; padding: 0}\n",
       ".list-inline>li {display: inline-block}\n",
       ".list-inline>li:not(:last-child)::after {content: \"\\00b7\"; padding: 0 .5ex}\n",
       "</style>\n",
       "<ol class=list-inline><li>2</li><li>3</li></ol>\n"
      ],
      "text/latex": [
       "\\textbf{\\$dim} = \\begin{enumerate*}\n",
       "\\item 2\n",
       "\\item 3\n",
       "\\end{enumerate*}\n"
      ],
      "text/markdown": [
       "**$dim** = 1. 2\n",
       "2. 3\n",
       "\n",
       "\n"
      ],
      "text/plain": [
       "$dim\n",
       "[1] 2 3\n"
      ]
     },
     "metadata": {},
     "output_type": "display_data"
    }
   ],
   "source": [
    "attributes(die)"
   ]
  },
  {
   "cell_type": "markdown",
   "id": "c51d4cbe",
   "metadata": {},
   "source": [
    "### Dates and times"
   ]
  },
  {
   "cell_type": "code",
   "execution_count": 37,
   "id": "7504cc86",
   "metadata": {},
   "outputs": [
    {
     "data": {
      "text/plain": [
       "[1] \"2022-01-10 17:22:16 EST\""
      ]
     },
     "metadata": {},
     "output_type": "display_data"
    }
   ],
   "source": [
    "now <- Sys.time()\n",
    "now"
   ]
  },
  {
   "cell_type": "code",
   "execution_count": 38,
   "id": "a1973d33",
   "metadata": {},
   "outputs": [
    {
     "data": {
      "text/html": [
       "'double'"
      ],
      "text/latex": [
       "'double'"
      ],
      "text/markdown": [
       "'double'"
      ],
      "text/plain": [
       "[1] \"double\""
      ]
     },
     "metadata": {},
     "output_type": "display_data"
    }
   ],
   "source": [
    "typeof(now)"
   ]
  },
  {
   "cell_type": "code",
   "execution_count": 39,
   "id": "de489ece",
   "metadata": {},
   "outputs": [
    {
     "data": {
      "text/html": [
       "<style>\n",
       ".list-inline {list-style: none; margin:0; padding: 0}\n",
       ".list-inline>li {display: inline-block}\n",
       ".list-inline>li:not(:last-child)::after {content: \"\\00b7\"; padding: 0 .5ex}\n",
       "</style>\n",
       "<ol class=list-inline><li>'POSIXct'</li><li>'POSIXt'</li></ol>\n"
      ],
      "text/latex": [
       "\\begin{enumerate*}\n",
       "\\item 'POSIXct'\n",
       "\\item 'POSIXt'\n",
       "\\end{enumerate*}\n"
      ],
      "text/markdown": [
       "1. 'POSIXct'\n",
       "2. 'POSIXt'\n",
       "\n",
       "\n"
      ],
      "text/plain": [
       "[1] \"POSIXct\" \"POSIXt\" "
      ]
     },
     "metadata": {},
     "output_type": "display_data"
    }
   ],
   "source": [
    "class(now)"
   ]
  },
  {
   "cell_type": "code",
   "execution_count": 40,
   "id": "68e76d47",
   "metadata": {},
   "outputs": [
    {
     "data": {
      "text/html": [
       "1641853336.95433"
      ],
      "text/latex": [
       "1641853336.95433"
      ],
      "text/markdown": [
       "1641853336.95433"
      ],
      "text/plain": [
       "[1] 1641853337"
      ]
     },
     "metadata": {},
     "output_type": "display_data"
    }
   ],
   "source": [
    "unclass(now)"
   ]
  },
  {
   "cell_type": "markdown",
   "id": "7b4b885a",
   "metadata": {
    "deletable": false,
    "editable": false,
    "run_control": {
     "frozen": true
    }
   },
   "source": [
    "### Factors"
   ]
  },
  {
   "cell_type": "markdown",
   "id": "eda5c544",
   "metadata": {},
   "source": [
    "If you've programmed in other languages before, **factors** are R's version of **enums**."
   ]
  },
  {
   "cell_type": "code",
   "execution_count": 41,
   "id": "889c3be1",
   "metadata": {},
   "outputs": [],
   "source": [
    "gender <- factor(c(\"male\", \"female\", \"female\", \"male\"))"
   ]
  },
  {
   "cell_type": "code",
   "execution_count": 42,
   "id": "e6eeb8e0",
   "metadata": {},
   "outputs": [
    {
     "data": {
      "text/html": [
       "'integer'"
      ],
      "text/latex": [
       "'integer'"
      ],
      "text/markdown": [
       "'integer'"
      ],
      "text/plain": [
       "[1] \"integer\""
      ]
     },
     "metadata": {},
     "output_type": "display_data"
    }
   ],
   "source": [
    "typeof(gender)"
   ]
  },
  {
   "cell_type": "code",
   "execution_count": 45,
   "id": "5ef32f8b",
   "metadata": {},
   "outputs": [
    {
     "name": "stdout",
     "output_type": "stream",
     "text": [
      "$levels\n",
      "[1] \"female\" \"male\"  \n",
      "\n",
      "$class\n",
      "[1] \"factor\"\n",
      "\n"
     ]
    }
   ],
   "source": [
    "print(attributes(gender))"
   ]
  },
  {
   "cell_type": "code",
   "execution_count": 47,
   "id": "231b1b57",
   "metadata": {},
   "outputs": [
    {
     "name": "stdout",
     "output_type": "stream",
     "text": [
      "[1] 2 1 1 2\n",
      "attr(,\"levels\")\n",
      "[1] \"female\" \"male\"  \n"
     ]
    }
   ],
   "source": [
    "print(unclass(gender))"
   ]
  },
  {
   "cell_type": "code",
   "execution_count": 48,
   "id": "a80f7f01",
   "metadata": {},
   "outputs": [
    {
     "name": "stdout",
     "output_type": "stream",
     "text": [
      "[1] male   female female male  \n",
      "Levels: female male\n"
     ]
    }
   ],
   "source": [
    "print(gender)"
   ]
  },
  {
   "cell_type": "code",
   "execution_count": null,
   "id": "91e36dc8",
   "metadata": {},
   "outputs": [],
   "source": []
  }
 ],
 "metadata": {
  "kernelspec": {
   "display_name": "R",
   "language": "R",
   "name": "ir"
  },
  "language_info": {
   "codemirror_mode": "r",
   "file_extension": ".r",
   "mimetype": "text/x-r-source",
   "name": "R",
   "pygments_lexer": "r",
   "version": "4.1.2"
  }
 },
 "nbformat": 4,
 "nbformat_minor": 5
}
