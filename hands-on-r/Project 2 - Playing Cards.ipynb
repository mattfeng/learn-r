{
 "cells": [
  {
   "cell_type": "markdown",
   "id": "3c3dfbac",
   "metadata": {
    "deletable": false,
    "editable": false,
    "run_control": {
     "frozen": true
    }
   },
   "source": [
    "## 5.1 Atomic Vectors"
   ]
  },
  {
   "cell_type": "markdown",
   "id": "3ab50608",
   "metadata": {
    "deletable": false,
    "editable": false,
    "run_control": {
     "frozen": true
    }
   },
   "source": [
    "## 5.2 Attributes"
   ]
  },
  {
   "cell_type": "markdown",
   "id": "6d88277a",
   "metadata": {
    "deletable": false,
    "editable": false,
    "run_control": {
     "frozen": true
    }
   },
   "source": [
    "### Names"
   ]
  },
  {
   "cell_type": "code",
   "execution_count": 13,
   "id": "78c2c84f",
   "metadata": {},
   "outputs": [
    {
     "data": {
      "text/plain": [
       "NULL"
      ]
     },
     "metadata": {},
     "output_type": "display_data"
    }
   ],
   "source": [
    "die <- 1:6\n",
    "attributes(die)"
   ]
  },
  {
   "cell_type": "markdown",
   "id": "39b96aba",
   "metadata": {
    "deletable": false,
    "editable": false,
    "run_control": {
     "frozen": true
    }
   },
   "source": [
    "Most common attributes given to vectors are:\n",
    "- names\n",
    "- dimensions\n",
    "- classes"
   ]
  },
  {
   "cell_type": "code",
   "execution_count": 14,
   "id": "c947adf4",
   "metadata": {},
   "outputs": [],
   "source": [
    "names(die) <- c(\"one\", \"two\", \"three\", \"four\", \"five\", \"six\")"
   ]
  },
  {
   "cell_type": "code",
   "execution_count": 15,
   "id": "7f9ed423",
   "metadata": {},
   "outputs": [
    {
     "data": {
      "text/html": [
       "<style>\n",
       ".list-inline {list-style: none; margin:0; padding: 0}\n",
       ".list-inline>li {display: inline-block}\n",
       ".list-inline>li:not(:last-child)::after {content: \"\\00b7\"; padding: 0 .5ex}\n",
       "</style>\n",
       "<ol class=list-inline><li>'one'</li><li>'two'</li><li>'three'</li><li>'four'</li><li>'five'</li><li>'six'</li></ol>\n"
      ],
      "text/latex": [
       "\\begin{enumerate*}\n",
       "\\item 'one'\n",
       "\\item 'two'\n",
       "\\item 'three'\n",
       "\\item 'four'\n",
       "\\item 'five'\n",
       "\\item 'six'\n",
       "\\end{enumerate*}\n"
      ],
      "text/markdown": [
       "1. 'one'\n",
       "2. 'two'\n",
       "3. 'three'\n",
       "4. 'four'\n",
       "5. 'five'\n",
       "6. 'six'\n",
       "\n",
       "\n"
      ],
      "text/plain": [
       "[1] \"one\"   \"two\"   \"three\" \"four\"  \"five\"  \"six\"  "
      ]
     },
     "metadata": {},
     "output_type": "display_data"
    }
   ],
   "source": [
    "names(die)"
   ]
  },
  {
   "cell_type": "code",
   "execution_count": 16,
   "id": "3d4b3273",
   "metadata": {},
   "outputs": [
    {
     "data": {
      "text/html": [
       "<strong>$names</strong> = <style>\n",
       ".list-inline {list-style: none; margin:0; padding: 0}\n",
       ".list-inline>li {display: inline-block}\n",
       ".list-inline>li:not(:last-child)::after {content: \"\\00b7\"; padding: 0 .5ex}\n",
       "</style>\n",
       "<ol class=list-inline><li>'one'</li><li>'two'</li><li>'three'</li><li>'four'</li><li>'five'</li><li>'six'</li></ol>\n"
      ],
      "text/latex": [
       "\\textbf{\\$names} = \\begin{enumerate*}\n",
       "\\item 'one'\n",
       "\\item 'two'\n",
       "\\item 'three'\n",
       "\\item 'four'\n",
       "\\item 'five'\n",
       "\\item 'six'\n",
       "\\end{enumerate*}\n"
      ],
      "text/markdown": [
       "**$names** = 1. 'one'\n",
       "2. 'two'\n",
       "3. 'three'\n",
       "4. 'four'\n",
       "5. 'five'\n",
       "6. 'six'\n",
       "\n",
       "\n"
      ],
      "text/plain": [
       "$names\n",
       "[1] \"one\"   \"two\"   \"three\" \"four\"  \"five\"  \"six\"  \n"
      ]
     },
     "metadata": {},
     "output_type": "display_data"
    }
   ],
   "source": [
    "attributes(die)"
   ]
  },
  {
   "cell_type": "code",
   "execution_count": 17,
   "id": "438e7bbf",
   "metadata": {},
   "outputs": [
    {
     "data": {
      "text/html": [
       "<style>\n",
       ".dl-inline {width: auto; margin:0; padding: 0}\n",
       ".dl-inline>dt, .dl-inline>dd {float: none; width: auto; display: inline-block}\n",
       ".dl-inline>dt::after {content: \":\\0020\"; padding-right: .5ex}\n",
       ".dl-inline>dt:not(:first-of-type) {padding-left: .5ex}\n",
       "</style><dl class=dl-inline><dt>one</dt><dd>1</dd><dt>two</dt><dd>2</dd><dt>three</dt><dd>3</dd><dt>four</dt><dd>4</dd><dt>five</dt><dd>5</dd><dt>six</dt><dd>6</dd></dl>\n"
      ],
      "text/latex": [
       "\\begin{description*}\n",
       "\\item[one] 1\n",
       "\\item[two] 2\n",
       "\\item[three] 3\n",
       "\\item[four] 4\n",
       "\\item[five] 5\n",
       "\\item[six] 6\n",
       "\\end{description*}\n"
      ],
      "text/markdown": [
       "one\n",
       ":   1two\n",
       ":   2three\n",
       ":   3four\n",
       ":   4five\n",
       ":   5six\n",
       ":   6\n",
       "\n"
      ],
      "text/plain": [
       "  one   two three  four  five   six \n",
       "    1     2     3     4     5     6 "
      ]
     },
     "metadata": {},
     "output_type": "display_data"
    }
   ],
   "source": [
    "die"
   ]
  },
  {
   "cell_type": "code",
   "execution_count": 18,
   "id": "d2b90847",
   "metadata": {},
   "outputs": [
    {
     "data": {
      "text/html": [
       "<style>\n",
       ".list-inline {list-style: none; margin:0; padding: 0}\n",
       ".list-inline>li {display: inline-block}\n",
       ".list-inline>li:not(:last-child)::after {content: \"\\00b7\"; padding: 0 .5ex}\n",
       "</style>\n",
       "<ol class=list-inline><li>1</li><li>2</li><li>3</li><li>4</li><li>5</li><li>6</li></ol>\n"
      ],
      "text/latex": [
       "\\begin{enumerate*}\n",
       "\\item 1\n",
       "\\item 2\n",
       "\\item 3\n",
       "\\item 4\n",
       "\\item 5\n",
       "\\item 6\n",
       "\\end{enumerate*}\n"
      ],
      "text/markdown": [
       "1. 1\n",
       "2. 2\n",
       "3. 3\n",
       "4. 4\n",
       "5. 5\n",
       "6. 6\n",
       "\n",
       "\n"
      ],
      "text/plain": [
       "[1] 1 2 3 4 5 6"
      ]
     },
     "metadata": {},
     "output_type": "display_data"
    }
   ],
   "source": [
    "names(die) <- NULL\n",
    "die"
   ]
  },
  {
   "cell_type": "markdown",
   "id": "1fabc4e3",
   "metadata": {
    "deletable": false,
    "editable": false,
    "run_control": {
     "frozen": true
    }
   },
   "source": [
    "### Dim"
   ]
  },
  {
   "cell_type": "code",
   "execution_count": 21,
   "id": "a0363016",
   "metadata": {},
   "outputs": [
    {
     "data": {
      "text/html": [
       "<table class=\"dataframe\">\n",
       "<caption>A matrix: 2 × 3 of type int</caption>\n",
       "<tbody>\n",
       "\t<tr><td>1</td><td>3</td><td>5</td></tr>\n",
       "\t<tr><td>2</td><td>4</td><td>6</td></tr>\n",
       "</tbody>\n",
       "</table>\n"
      ],
      "text/latex": [
       "A matrix: 2 × 3 of type int\n",
       "\\begin{tabular}{lll}\n",
       "\t 1 & 3 & 5\\\\\n",
       "\t 2 & 4 & 6\\\\\n",
       "\\end{tabular}\n"
      ],
      "text/markdown": [
       "\n",
       "A matrix: 2 × 3 of type int\n",
       "\n",
       "| 1 | 3 | 5 |\n",
       "| 2 | 4 | 6 |\n",
       "\n"
      ],
      "text/plain": [
       "     [,1] [,2] [,3]\n",
       "[1,] 1    3    5   \n",
       "[2,] 2    4    6   "
      ]
     },
     "metadata": {},
     "output_type": "display_data"
    }
   ],
   "source": [
    "dim(die) <- c(2, 3)\n",
    "die"
   ]
  },
  {
   "cell_type": "code",
   "execution_count": 24,
   "id": "aa9a354f",
   "metadata": {},
   "outputs": [
    {
     "data": {
      "text/html": [
       "<style>\n",
       ".list-inline {list-style: none; margin:0; padding: 0}\n",
       ".list-inline>li {display: inline-block}\n",
       ".list-inline>li:not(:last-child)::after {content: \"\\00b7\"; padding: 0 .5ex}\n",
       "</style>\n",
       "<ol class=list-inline><li>1</li><li>2</li><li>3</li><li>4</li><li>5</li><li>6</li></ol>\n"
      ],
      "text/latex": [
       "\\begin{enumerate*}\n",
       "\\item 1\n",
       "\\item 2\n",
       "\\item 3\n",
       "\\item 4\n",
       "\\item 5\n",
       "\\item 6\n",
       "\\end{enumerate*}\n"
      ],
      "text/markdown": [
       "1. 1\n",
       "2. 2\n",
       "3. 3\n",
       "4. 4\n",
       "5. 5\n",
       "6. 6\n",
       "\n",
       "\n"
      ],
      "text/plain": [
       ", , 1\n",
       "\n",
       "     [,1] [,2]\n",
       "[1,]    1    2\n",
       "\n",
       ", , 2\n",
       "\n",
       "     [,1] [,2]\n",
       "[1,]    3    4\n",
       "\n",
       ", , 3\n",
       "\n",
       "     [,1] [,2]\n",
       "[1,]    5    6\n"
      ]
     },
     "metadata": {},
     "output_type": "display_data"
    }
   ],
   "source": [
    "dim(die) <- c(1, 2, 3)\n",
    "die"
   ]
  },
  {
   "cell_type": "markdown",
   "id": "a5e3f5c6",
   "metadata": {
    "deletable": false,
    "editable": false,
    "run_control": {
     "frozen": true
    }
   },
   "source": [
    "## 5.3 Matrices"
   ]
  },
  {
   "cell_type": "code",
   "execution_count": 28,
   "id": "4c03cb4b",
   "metadata": {},
   "outputs": [
    {
     "data": {
      "text/html": [
       "<table class=\"dataframe\">\n",
       "<caption>A matrix: 2 × 3 of type int</caption>\n",
       "<tbody>\n",
       "\t<tr><td>1</td><td>2</td><td>3</td></tr>\n",
       "\t<tr><td>4</td><td>5</td><td>6</td></tr>\n",
       "</tbody>\n",
       "</table>\n"
      ],
      "text/latex": [
       "A matrix: 2 × 3 of type int\n",
       "\\begin{tabular}{lll}\n",
       "\t 1 & 2 & 3\\\\\n",
       "\t 4 & 5 & 6\\\\\n",
       "\\end{tabular}\n"
      ],
      "text/markdown": [
       "\n",
       "A matrix: 2 × 3 of type int\n",
       "\n",
       "| 1 | 2 | 3 |\n",
       "| 4 | 5 | 6 |\n",
       "\n"
      ],
      "text/plain": [
       "     [,1] [,2] [,3]\n",
       "[1,] 1    2    3   \n",
       "[2,] 4    5    6   "
      ]
     },
     "metadata": {},
     "output_type": "display_data"
    }
   ],
   "source": [
    "m <- matrix(die, nrow=2, byrow=TRUE)\n",
    "m"
   ]
  },
  {
   "cell_type": "markdown",
   "id": "81393907",
   "metadata": {
    "deletable": false,
    "editable": false,
    "run_control": {
     "frozen": true
    }
   },
   "source": [
    "## 5.4 Arrays"
   ]
  },
  {
   "cell_type": "code",
   "execution_count": 31,
   "id": "c74a7d43",
   "metadata": {},
   "outputs": [
    {
     "data": {
      "text/html": [
       "<table class=\"dataframe\">\n",
       "<caption>A matrix: 5 × 2 of type chr</caption>\n",
       "<tbody>\n",
       "\t<tr><td>ace  </td><td>spades</td></tr>\n",
       "\t<tr><td>king </td><td>spades</td></tr>\n",
       "\t<tr><td>queen</td><td>spades</td></tr>\n",
       "\t<tr><td>jack </td><td>spades</td></tr>\n",
       "\t<tr><td>ten  </td><td>spades</td></tr>\n",
       "</tbody>\n",
       "</table>\n"
      ],
      "text/latex": [
       "A matrix: 5 × 2 of type chr\n",
       "\\begin{tabular}{ll}\n",
       "\t ace   & spades\\\\\n",
       "\t king  & spades\\\\\n",
       "\t queen & spades\\\\\n",
       "\t jack  & spades\\\\\n",
       "\t ten   & spades\\\\\n",
       "\\end{tabular}\n"
      ],
      "text/markdown": [
       "\n",
       "A matrix: 5 × 2 of type chr\n",
       "\n",
       "| ace   | spades |\n",
       "| king  | spades |\n",
       "| queen | spades |\n",
       "| jack  | spades |\n",
       "| ten   | spades |\n",
       "\n"
      ],
      "text/plain": [
       "     [,1]  [,2]  \n",
       "[1,] ace   spades\n",
       "[2,] king  spades\n",
       "[3,] queen spades\n",
       "[4,] jack  spades\n",
       "[5,] ten   spades"
      ]
     },
     "metadata": {},
     "output_type": "display_data"
    }
   ],
   "source": [
    "cards <- c(\"ace\", \"king\", \"queen\", \"jack\", \"ten\", \"spades\", \"spades\", \"spades\", \"spades\", \"spades\")\n",
    "m <- matrix(cards, ncol=2)\n",
    "m\n",
    "            "
   ]
  },
  {
   "cell_type": "markdown",
   "id": "765873bd",
   "metadata": {
    "deletable": false,
    "editable": false,
    "run_control": {
     "frozen": true
    }
   },
   "source": [
    "## 5.5 Class"
   ]
  },
  {
   "cell_type": "code",
   "execution_count": 33,
   "id": "b9c2ade5",
   "metadata": {},
   "outputs": [
    {
     "data": {
      "text/html": [
       "'integer'"
      ],
      "text/latex": [
       "'integer'"
      ],
      "text/markdown": [
       "'integer'"
      ],
      "text/plain": [
       "[1] \"integer\""
      ]
     },
     "metadata": {},
     "output_type": "display_data"
    }
   ],
   "source": [
    "die <- 1:6\n",
    "dim(die) <- c(2, 3)\n",
    "typeof(die)"
   ]
  },
  {
   "cell_type": "code",
   "execution_count": 34,
   "id": "17e2f467",
   "metadata": {},
   "outputs": [
    {
     "data": {
      "text/html": [
       "<style>\n",
       ".list-inline {list-style: none; margin:0; padding: 0}\n",
       ".list-inline>li {display: inline-block}\n",
       ".list-inline>li:not(:last-child)::after {content: \"\\00b7\"; padding: 0 .5ex}\n",
       "</style>\n",
       "<ol class=list-inline><li>'matrix'</li><li>'array'</li></ol>\n"
      ],
      "text/latex": [
       "\\begin{enumerate*}\n",
       "\\item 'matrix'\n",
       "\\item 'array'\n",
       "\\end{enumerate*}\n"
      ],
      "text/markdown": [
       "1. 'matrix'\n",
       "2. 'array'\n",
       "\n",
       "\n"
      ],
      "text/plain": [
       "[1] \"matrix\" \"array\" "
      ]
     },
     "metadata": {},
     "output_type": "display_data"
    }
   ],
   "source": [
    "class(die)"
   ]
  },
  {
   "cell_type": "code",
   "execution_count": 35,
   "id": "94145db8",
   "metadata": {},
   "outputs": [
    {
     "data": {
      "text/html": [
       "<strong>$dim</strong> = <style>\n",
       ".list-inline {list-style: none; margin:0; padding: 0}\n",
       ".list-inline>li {display: inline-block}\n",
       ".list-inline>li:not(:last-child)::after {content: \"\\00b7\"; padding: 0 .5ex}\n",
       "</style>\n",
       "<ol class=list-inline><li>2</li><li>3</li></ol>\n"
      ],
      "text/latex": [
       "\\textbf{\\$dim} = \\begin{enumerate*}\n",
       "\\item 2\n",
       "\\item 3\n",
       "\\end{enumerate*}\n"
      ],
      "text/markdown": [
       "**$dim** = 1. 2\n",
       "2. 3\n",
       "\n",
       "\n"
      ],
      "text/plain": [
       "$dim\n",
       "[1] 2 3\n"
      ]
     },
     "metadata": {},
     "output_type": "display_data"
    }
   ],
   "source": [
    "attributes(die)"
   ]
  },
  {
   "cell_type": "markdown",
   "id": "c51d4cbe",
   "metadata": {},
   "source": [
    "### Dates and times"
   ]
  },
  {
   "cell_type": "code",
   "execution_count": 37,
   "id": "7504cc86",
   "metadata": {},
   "outputs": [
    {
     "data": {
      "text/plain": [
       "[1] \"2022-01-10 17:22:16 EST\""
      ]
     },
     "metadata": {},
     "output_type": "display_data"
    }
   ],
   "source": [
    "now <- Sys.time()\n",
    "now"
   ]
  },
  {
   "cell_type": "code",
   "execution_count": 38,
   "id": "a1973d33",
   "metadata": {},
   "outputs": [
    {
     "data": {
      "text/html": [
       "'double'"
      ],
      "text/latex": [
       "'double'"
      ],
      "text/markdown": [
       "'double'"
      ],
      "text/plain": [
       "[1] \"double\""
      ]
     },
     "metadata": {},
     "output_type": "display_data"
    }
   ],
   "source": [
    "typeof(now)"
   ]
  },
  {
   "cell_type": "code",
   "execution_count": 39,
   "id": "de489ece",
   "metadata": {},
   "outputs": [
    {
     "data": {
      "text/html": [
       "<style>\n",
       ".list-inline {list-style: none; margin:0; padding: 0}\n",
       ".list-inline>li {display: inline-block}\n",
       ".list-inline>li:not(:last-child)::after {content: \"\\00b7\"; padding: 0 .5ex}\n",
       "</style>\n",
       "<ol class=list-inline><li>'POSIXct'</li><li>'POSIXt'</li></ol>\n"
      ],
      "text/latex": [
       "\\begin{enumerate*}\n",
       "\\item 'POSIXct'\n",
       "\\item 'POSIXt'\n",
       "\\end{enumerate*}\n"
      ],
      "text/markdown": [
       "1. 'POSIXct'\n",
       "2. 'POSIXt'\n",
       "\n",
       "\n"
      ],
      "text/plain": [
       "[1] \"POSIXct\" \"POSIXt\" "
      ]
     },
     "metadata": {},
     "output_type": "display_data"
    }
   ],
   "source": [
    "class(now)"
   ]
  },
  {
   "cell_type": "code",
   "execution_count": 40,
   "id": "68e76d47",
   "metadata": {},
   "outputs": [
    {
     "data": {
      "text/html": [
       "1641853336.95433"
      ],
      "text/latex": [
       "1641853336.95433"
      ],
      "text/markdown": [
       "1641853336.95433"
      ],
      "text/plain": [
       "[1] 1641853337"
      ]
     },
     "metadata": {},
     "output_type": "display_data"
    }
   ],
   "source": [
    "unclass(now)"
   ]
  },
  {
   "cell_type": "markdown",
   "id": "7b4b885a",
   "metadata": {
    "deletable": false,
    "editable": false,
    "run_control": {
     "frozen": true
    }
   },
   "source": [
    "### Factors"
   ]
  },
  {
   "cell_type": "markdown",
   "id": "eda5c544",
   "metadata": {},
   "source": [
    "If you've programmed in other languages before, **factors** are R's version of **enums**."
   ]
  },
  {
   "cell_type": "code",
   "execution_count": 41,
   "id": "889c3be1",
   "metadata": {},
   "outputs": [],
   "source": [
    "gender <- factor(c(\"male\", \"female\", \"female\", \"male\"))"
   ]
  },
  {
   "cell_type": "code",
   "execution_count": 42,
   "id": "e6eeb8e0",
   "metadata": {},
   "outputs": [
    {
     "data": {
      "text/html": [
       "'integer'"
      ],
      "text/latex": [
       "'integer'"
      ],
      "text/markdown": [
       "'integer'"
      ],
      "text/plain": [
       "[1] \"integer\""
      ]
     },
     "metadata": {},
     "output_type": "display_data"
    }
   ],
   "source": [
    "typeof(gender)"
   ]
  },
  {
   "cell_type": "code",
   "execution_count": 45,
   "id": "5ef32f8b",
   "metadata": {},
   "outputs": [
    {
     "name": "stdout",
     "output_type": "stream",
     "text": [
      "$levels\n",
      "[1] \"female\" \"male\"  \n",
      "\n",
      "$class\n",
      "[1] \"factor\"\n",
      "\n"
     ]
    }
   ],
   "source": [
    "print(attributes(gender))"
   ]
  },
  {
   "cell_type": "code",
   "execution_count": 47,
   "id": "231b1b57",
   "metadata": {},
   "outputs": [
    {
     "name": "stdout",
     "output_type": "stream",
     "text": [
      "[1] 2 1 1 2\n",
      "attr(,\"levels\")\n",
      "[1] \"female\" \"male\"  \n"
     ]
    }
   ],
   "source": [
    "print(unclass(gender))"
   ]
  },
  {
   "cell_type": "code",
   "execution_count": 48,
   "id": "a80f7f01",
   "metadata": {},
   "outputs": [
    {
     "name": "stdout",
     "output_type": "stream",
     "text": [
      "[1] male   female female male  \n",
      "Levels: female male\n"
     ]
    }
   ],
   "source": [
    "print(gender)"
   ]
  },
  {
   "cell_type": "markdown",
   "id": "e75d748b",
   "metadata": {
    "deletable": false,
    "editable": false,
    "run_control": {
     "frozen": true
    }
   },
   "source": [
    "## 5.6 Coercion"
   ]
  },
  {
   "cell_type": "code",
   "execution_count": 1,
   "id": "caa59c5e",
   "metadata": {},
   "outputs": [
    {
     "data": {
      "text/html": [
       "'TRUE'"
      ],
      "text/latex": [
       "'TRUE'"
      ],
      "text/markdown": [
       "'TRUE'"
      ],
      "text/plain": [
       "[1] \"TRUE\""
      ]
     },
     "metadata": {},
     "output_type": "display_data"
    }
   ],
   "source": [
    "as.character(TRUE)"
   ]
  },
  {
   "cell_type": "markdown",
   "id": "2b93c564",
   "metadata": {
    "deletable": false,
    "editable": false,
    "run_control": {
     "frozen": true
    }
   },
   "source": [
    "## 5.7 Lists"
   ]
  },
  {
   "cell_type": "code",
   "execution_count": 3,
   "id": "3a8dfd2a",
   "metadata": {},
   "outputs": [
    {
     "name": "stdout",
     "output_type": "stream",
     "text": [
      "[[1]]\n",
      "[1] \"ace\"\n",
      "\n",
      "[[2]]\n",
      "[1] \"hearts\"\n",
      "\n",
      "[[3]]\n",
      "[1] 1\n",
      "\n"
     ]
    }
   ],
   "source": [
    "card <- list(\"ace\", \"hearts\", 1)\n",
    "print(card)"
   ]
  },
  {
   "cell_type": "markdown",
   "id": "45c6692c",
   "metadata": {},
   "source": [
    "## 5.8 Data frame"
   ]
  },
  {
   "cell_type": "code",
   "execution_count": 4,
   "id": "256fa30c",
   "metadata": {},
   "outputs": [],
   "source": [
    "df <- data.frame(\n",
    "    face=c(\"ace\", \"two\", \"six\"),\n",
    "    suit=c(\"clubs\", \"clubs\", \"clubs\"),\n",
    "    value=c(1, 2, 3),\n",
    "    stringsAsFactors=FALSE)"
   ]
  },
  {
   "cell_type": "code",
   "execution_count": 5,
   "id": "2aacc2fb",
   "metadata": {},
   "outputs": [
    {
     "data": {
      "text/html": [
       "<table class=\"dataframe\">\n",
       "<caption>A data.frame: 3 × 3</caption>\n",
       "<thead>\n",
       "\t<tr><th scope=col>face</th><th scope=col>suit</th><th scope=col>value</th></tr>\n",
       "\t<tr><th scope=col>&lt;chr&gt;</th><th scope=col>&lt;chr&gt;</th><th scope=col>&lt;dbl&gt;</th></tr>\n",
       "</thead>\n",
       "<tbody>\n",
       "\t<tr><td>ace</td><td>clubs</td><td>1</td></tr>\n",
       "\t<tr><td>two</td><td>clubs</td><td>2</td></tr>\n",
       "\t<tr><td>six</td><td>clubs</td><td>3</td></tr>\n",
       "</tbody>\n",
       "</table>\n"
      ],
      "text/latex": [
       "A data.frame: 3 × 3\n",
       "\\begin{tabular}{lll}\n",
       " face & suit & value\\\\\n",
       " <chr> & <chr> & <dbl>\\\\\n",
       "\\hline\n",
       "\t ace & clubs & 1\\\\\n",
       "\t two & clubs & 2\\\\\n",
       "\t six & clubs & 3\\\\\n",
       "\\end{tabular}\n"
      ],
      "text/markdown": [
       "\n",
       "A data.frame: 3 × 3\n",
       "\n",
       "| face &lt;chr&gt; | suit &lt;chr&gt; | value &lt;dbl&gt; |\n",
       "|---|---|---|\n",
       "| ace | clubs | 1 |\n",
       "| two | clubs | 2 |\n",
       "| six | clubs | 3 |\n",
       "\n"
      ],
      "text/plain": [
       "  face suit  value\n",
       "1 ace  clubs 1    \n",
       "2 two  clubs 2    \n",
       "3 six  clubs 3    "
      ]
     },
     "metadata": {},
     "output_type": "display_data"
    }
   ],
   "source": [
    "df"
   ]
  },
  {
   "cell_type": "markdown",
   "id": "5a304529",
   "metadata": {},
   "source": [
    "## 5.9 Load data"
   ]
  },
  {
   "cell_type": "code",
   "execution_count": 9,
   "id": "e2ae843d",
   "metadata": {},
   "outputs": [
    {
     "data": {
      "text/html": [
       "<table class=\"dataframe\">\n",
       "<caption>A data.frame: 52 × 3</caption>\n",
       "<thead>\n",
       "\t<tr><th scope=col>face</th><th scope=col>suit</th><th scope=col>value</th></tr>\n",
       "\t<tr><th scope=col>&lt;chr&gt;</th><th scope=col>&lt;chr&gt;</th><th scope=col>&lt;int&gt;</th></tr>\n",
       "</thead>\n",
       "<tbody>\n",
       "\t<tr><td>king </td><td>spades  </td><td>13</td></tr>\n",
       "\t<tr><td>queen</td><td>spades  </td><td>12</td></tr>\n",
       "\t<tr><td>jack </td><td>spades  </td><td>11</td></tr>\n",
       "\t<tr><td>ten  </td><td>spades  </td><td>10</td></tr>\n",
       "\t<tr><td>nine </td><td>spades  </td><td> 9</td></tr>\n",
       "\t<tr><td>eight</td><td>spades  </td><td> 8</td></tr>\n",
       "\t<tr><td>seven</td><td>spades  </td><td> 7</td></tr>\n",
       "\t<tr><td>six  </td><td>spades  </td><td> 6</td></tr>\n",
       "\t<tr><td>five </td><td>spades  </td><td> 5</td></tr>\n",
       "\t<tr><td>four </td><td>spades  </td><td> 4</td></tr>\n",
       "\t<tr><td>three</td><td>spades  </td><td> 3</td></tr>\n",
       "\t<tr><td>two  </td><td>spades  </td><td> 2</td></tr>\n",
       "\t<tr><td>ace  </td><td>spades  </td><td> 1</td></tr>\n",
       "\t<tr><td>king </td><td>clubs   </td><td>13</td></tr>\n",
       "\t<tr><td>queen</td><td>clubs   </td><td>12</td></tr>\n",
       "\t<tr><td>jack </td><td>clubs   </td><td>11</td></tr>\n",
       "\t<tr><td>ten  </td><td>clubs   </td><td>10</td></tr>\n",
       "\t<tr><td>nine </td><td>clubs   </td><td> 9</td></tr>\n",
       "\t<tr><td>eight</td><td>clubs   </td><td> 8</td></tr>\n",
       "\t<tr><td>seven</td><td>clubs   </td><td> 7</td></tr>\n",
       "\t<tr><td>six  </td><td>clubs   </td><td> 6</td></tr>\n",
       "\t<tr><td>five </td><td>clubs   </td><td> 5</td></tr>\n",
       "\t<tr><td>four </td><td>clubs   </td><td> 4</td></tr>\n",
       "\t<tr><td>three</td><td>clubs   </td><td> 3</td></tr>\n",
       "\t<tr><td>two  </td><td>clubs   </td><td> 2</td></tr>\n",
       "\t<tr><td>ace  </td><td>clubs   </td><td> 1</td></tr>\n",
       "\t<tr><td>king </td><td>diamonds</td><td>13</td></tr>\n",
       "\t<tr><td>queen</td><td>diamonds</td><td>12</td></tr>\n",
       "\t<tr><td>jack </td><td>diamonds</td><td>11</td></tr>\n",
       "\t<tr><td>ten  </td><td>diamonds</td><td>10</td></tr>\n",
       "\t<tr><td>nine </td><td>diamonds</td><td> 9</td></tr>\n",
       "\t<tr><td>eight</td><td>diamonds</td><td> 8</td></tr>\n",
       "\t<tr><td>seven</td><td>diamonds</td><td> 7</td></tr>\n",
       "\t<tr><td>six  </td><td>diamonds</td><td> 6</td></tr>\n",
       "\t<tr><td>five </td><td>diamonds</td><td> 5</td></tr>\n",
       "\t<tr><td>four </td><td>diamonds</td><td> 4</td></tr>\n",
       "\t<tr><td>three</td><td>diamonds</td><td> 3</td></tr>\n",
       "\t<tr><td>two  </td><td>diamonds</td><td> 2</td></tr>\n",
       "\t<tr><td>ace  </td><td>diamonds</td><td> 1</td></tr>\n",
       "\t<tr><td>king </td><td>hearts  </td><td>13</td></tr>\n",
       "\t<tr><td>queen</td><td>hearts  </td><td>12</td></tr>\n",
       "\t<tr><td>jack </td><td>hearts  </td><td>11</td></tr>\n",
       "\t<tr><td>ten  </td><td>hearts  </td><td>10</td></tr>\n",
       "\t<tr><td>nine </td><td>hearts  </td><td> 9</td></tr>\n",
       "\t<tr><td>eight</td><td>hearts  </td><td> 8</td></tr>\n",
       "\t<tr><td>seven</td><td>hearts  </td><td> 7</td></tr>\n",
       "\t<tr><td>six  </td><td>hearts  </td><td> 6</td></tr>\n",
       "\t<tr><td>five </td><td>hearts  </td><td> 5</td></tr>\n",
       "\t<tr><td>four </td><td>hearts  </td><td> 4</td></tr>\n",
       "\t<tr><td>three</td><td>hearts  </td><td> 3</td></tr>\n",
       "\t<tr><td>two  </td><td>hearts  </td><td> 2</td></tr>\n",
       "\t<tr><td>ace  </td><td>hearts  </td><td> 1</td></tr>\n",
       "</tbody>\n",
       "</table>\n"
      ],
      "text/latex": [
       "A data.frame: 52 × 3\n",
       "\\begin{tabular}{lll}\n",
       " face & suit & value\\\\\n",
       " <chr> & <chr> & <int>\\\\\n",
       "\\hline\n",
       "\t king  & spades   & 13\\\\\n",
       "\t queen & spades   & 12\\\\\n",
       "\t jack  & spades   & 11\\\\\n",
       "\t ten   & spades   & 10\\\\\n",
       "\t nine  & spades   &  9\\\\\n",
       "\t eight & spades   &  8\\\\\n",
       "\t seven & spades   &  7\\\\\n",
       "\t six   & spades   &  6\\\\\n",
       "\t five  & spades   &  5\\\\\n",
       "\t four  & spades   &  4\\\\\n",
       "\t three & spades   &  3\\\\\n",
       "\t two   & spades   &  2\\\\\n",
       "\t ace   & spades   &  1\\\\\n",
       "\t king  & clubs    & 13\\\\\n",
       "\t queen & clubs    & 12\\\\\n",
       "\t jack  & clubs    & 11\\\\\n",
       "\t ten   & clubs    & 10\\\\\n",
       "\t nine  & clubs    &  9\\\\\n",
       "\t eight & clubs    &  8\\\\\n",
       "\t seven & clubs    &  7\\\\\n",
       "\t six   & clubs    &  6\\\\\n",
       "\t five  & clubs    &  5\\\\\n",
       "\t four  & clubs    &  4\\\\\n",
       "\t three & clubs    &  3\\\\\n",
       "\t two   & clubs    &  2\\\\\n",
       "\t ace   & clubs    &  1\\\\\n",
       "\t king  & diamonds & 13\\\\\n",
       "\t queen & diamonds & 12\\\\\n",
       "\t jack  & diamonds & 11\\\\\n",
       "\t ten   & diamonds & 10\\\\\n",
       "\t nine  & diamonds &  9\\\\\n",
       "\t eight & diamonds &  8\\\\\n",
       "\t seven & diamonds &  7\\\\\n",
       "\t six   & diamonds &  6\\\\\n",
       "\t five  & diamonds &  5\\\\\n",
       "\t four  & diamonds &  4\\\\\n",
       "\t three & diamonds &  3\\\\\n",
       "\t two   & diamonds &  2\\\\\n",
       "\t ace   & diamonds &  1\\\\\n",
       "\t king  & hearts   & 13\\\\\n",
       "\t queen & hearts   & 12\\\\\n",
       "\t jack  & hearts   & 11\\\\\n",
       "\t ten   & hearts   & 10\\\\\n",
       "\t nine  & hearts   &  9\\\\\n",
       "\t eight & hearts   &  8\\\\\n",
       "\t seven & hearts   &  7\\\\\n",
       "\t six   & hearts   &  6\\\\\n",
       "\t five  & hearts   &  5\\\\\n",
       "\t four  & hearts   &  4\\\\\n",
       "\t three & hearts   &  3\\\\\n",
       "\t two   & hearts   &  2\\\\\n",
       "\t ace   & hearts   &  1\\\\\n",
       "\\end{tabular}\n"
      ],
      "text/markdown": [
       "\n",
       "A data.frame: 52 × 3\n",
       "\n",
       "| face &lt;chr&gt; | suit &lt;chr&gt; | value &lt;int&gt; |\n",
       "|---|---|---|\n",
       "| king  | spades   | 13 |\n",
       "| queen | spades   | 12 |\n",
       "| jack  | spades   | 11 |\n",
       "| ten   | spades   | 10 |\n",
       "| nine  | spades   |  9 |\n",
       "| eight | spades   |  8 |\n",
       "| seven | spades   |  7 |\n",
       "| six   | spades   |  6 |\n",
       "| five  | spades   |  5 |\n",
       "| four  | spades   |  4 |\n",
       "| three | spades   |  3 |\n",
       "| two   | spades   |  2 |\n",
       "| ace   | spades   |  1 |\n",
       "| king  | clubs    | 13 |\n",
       "| queen | clubs    | 12 |\n",
       "| jack  | clubs    | 11 |\n",
       "| ten   | clubs    | 10 |\n",
       "| nine  | clubs    |  9 |\n",
       "| eight | clubs    |  8 |\n",
       "| seven | clubs    |  7 |\n",
       "| six   | clubs    |  6 |\n",
       "| five  | clubs    |  5 |\n",
       "| four  | clubs    |  4 |\n",
       "| three | clubs    |  3 |\n",
       "| two   | clubs    |  2 |\n",
       "| ace   | clubs    |  1 |\n",
       "| king  | diamonds | 13 |\n",
       "| queen | diamonds | 12 |\n",
       "| jack  | diamonds | 11 |\n",
       "| ten   | diamonds | 10 |\n",
       "| nine  | diamonds |  9 |\n",
       "| eight | diamonds |  8 |\n",
       "| seven | diamonds |  7 |\n",
       "| six   | diamonds |  6 |\n",
       "| five  | diamonds |  5 |\n",
       "| four  | diamonds |  4 |\n",
       "| three | diamonds |  3 |\n",
       "| two   | diamonds |  2 |\n",
       "| ace   | diamonds |  1 |\n",
       "| king  | hearts   | 13 |\n",
       "| queen | hearts   | 12 |\n",
       "| jack  | hearts   | 11 |\n",
       "| ten   | hearts   | 10 |\n",
       "| nine  | hearts   |  9 |\n",
       "| eight | hearts   |  8 |\n",
       "| seven | hearts   |  7 |\n",
       "| six   | hearts   |  6 |\n",
       "| five  | hearts   |  5 |\n",
       "| four  | hearts   |  4 |\n",
       "| three | hearts   |  3 |\n",
       "| two   | hearts   |  2 |\n",
       "| ace   | hearts   |  1 |\n",
       "\n"
      ],
      "text/plain": [
       "   face  suit     value\n",
       "1  king  spades   13   \n",
       "2  queen spades   12   \n",
       "3  jack  spades   11   \n",
       "4  ten   spades   10   \n",
       "5  nine  spades    9   \n",
       "6  eight spades    8   \n",
       "7  seven spades    7   \n",
       "8  six   spades    6   \n",
       "9  five  spades    5   \n",
       "10 four  spades    4   \n",
       "11 three spades    3   \n",
       "12 two   spades    2   \n",
       "13 ace   spades    1   \n",
       "14 king  clubs    13   \n",
       "15 queen clubs    12   \n",
       "16 jack  clubs    11   \n",
       "17 ten   clubs    10   \n",
       "18 nine  clubs     9   \n",
       "19 eight clubs     8   \n",
       "20 seven clubs     7   \n",
       "21 six   clubs     6   \n",
       "22 five  clubs     5   \n",
       "23 four  clubs     4   \n",
       "24 three clubs     3   \n",
       "25 two   clubs     2   \n",
       "26 ace   clubs     1   \n",
       "27 king  diamonds 13   \n",
       "28 queen diamonds 12   \n",
       "29 jack  diamonds 11   \n",
       "30 ten   diamonds 10   \n",
       "31 nine  diamonds  9   \n",
       "32 eight diamonds  8   \n",
       "33 seven diamonds  7   \n",
       "34 six   diamonds  6   \n",
       "35 five  diamonds  5   \n",
       "36 four  diamonds  4   \n",
       "37 three diamonds  3   \n",
       "38 two   diamonds  2   \n",
       "39 ace   diamonds  1   \n",
       "40 king  hearts   13   \n",
       "41 queen hearts   12   \n",
       "42 jack  hearts   11   \n",
       "43 ten   hearts   10   \n",
       "44 nine  hearts    9   \n",
       "45 eight hearts    8   \n",
       "46 seven hearts    7   \n",
       "47 six   hearts    6   \n",
       "48 five  hearts    5   \n",
       "49 four  hearts    4   \n",
       "50 three hearts    3   \n",
       "51 two   hearts    2   \n",
       "52 ace   hearts    1   "
      ]
     },
     "metadata": {},
     "output_type": "display_data"
    }
   ],
   "source": [
    "deck <- read.csv(\"./deck.csv\")\n",
    "deck"
   ]
  },
  {
   "cell_type": "markdown",
   "id": "6651b338",
   "metadata": {},
   "source": [
    "# 6. R Notation"
   ]
  },
  {
   "cell_type": "code",
   "execution_count": 8,
   "id": "3f09c6a2",
   "metadata": {},
   "outputs": [],
   "source": [
    "deal <- function(cards) {\n",
    "    cards[1,]\n",
    "}\n",
    "\n",
    "shuffle <- function(cards) {\n",
    "    random <- sample(1:52, size=52)\n",
    "    cards[random, ]\n",
    "}"
   ]
  },
  {
   "cell_type": "code",
   "execution_count": 10,
   "id": "f6ed4da1",
   "metadata": {},
   "outputs": [
    {
     "data": {
      "text/html": [
       "<table class=\"dataframe\">\n",
       "<caption>A data.frame: 1 × 3</caption>\n",
       "<thead>\n",
       "\t<tr><th></th><th scope=col>face</th><th scope=col>suit</th><th scope=col>value</th></tr>\n",
       "\t<tr><th></th><th scope=col>&lt;chr&gt;</th><th scope=col>&lt;chr&gt;</th><th scope=col>&lt;int&gt;</th></tr>\n",
       "</thead>\n",
       "<tbody>\n",
       "\t<tr><th scope=row>1</th><td>king</td><td>spades</td><td>13</td></tr>\n",
       "</tbody>\n",
       "</table>\n"
      ],
      "text/latex": [
       "A data.frame: 1 × 3\n",
       "\\begin{tabular}{r|lll}\n",
       "  & face & suit & value\\\\\n",
       "  & <chr> & <chr> & <int>\\\\\n",
       "\\hline\n",
       "\t1 & king & spades & 13\\\\\n",
       "\\end{tabular}\n"
      ],
      "text/markdown": [
       "\n",
       "A data.frame: 1 × 3\n",
       "\n",
       "| <!--/--> | face &lt;chr&gt; | suit &lt;chr&gt; | value &lt;int&gt; |\n",
       "|---|---|---|---|\n",
       "| 1 | king | spades | 13 |\n",
       "\n"
      ],
      "text/plain": [
       "  face suit   value\n",
       "1 king spades 13   "
      ]
     },
     "metadata": {},
     "output_type": "display_data"
    }
   ],
   "source": [
    "deal(deck)"
   ]
  },
  {
   "cell_type": "code",
   "execution_count": 12,
   "id": "c122125f",
   "metadata": {},
   "outputs": [],
   "source": [
    "deck2 = shuffle(deck)"
   ]
  },
  {
   "cell_type": "code",
   "execution_count": 13,
   "id": "9b74e3fa",
   "metadata": {},
   "outputs": [
    {
     "data": {
      "text/html": [
       "<table class=\"dataframe\">\n",
       "<caption>A data.frame: 52 × 3</caption>\n",
       "<thead>\n",
       "\t<tr><th></th><th scope=col>face</th><th scope=col>suit</th><th scope=col>value</th></tr>\n",
       "\t<tr><th></th><th scope=col>&lt;chr&gt;</th><th scope=col>&lt;chr&gt;</th><th scope=col>&lt;int&gt;</th></tr>\n",
       "</thead>\n",
       "<tbody>\n",
       "\t<tr><th scope=row>7</th><td>seven</td><td>spades  </td><td> 7</td></tr>\n",
       "\t<tr><th scope=row>20</th><td>seven</td><td>clubs   </td><td> 7</td></tr>\n",
       "\t<tr><th scope=row>25</th><td>two  </td><td>clubs   </td><td> 2</td></tr>\n",
       "\t<tr><th scope=row>14</th><td>king </td><td>clubs   </td><td>13</td></tr>\n",
       "\t<tr><th scope=row>2</th><td>queen</td><td>spades  </td><td>12</td></tr>\n",
       "\t<tr><th scope=row>5</th><td>nine </td><td>spades  </td><td> 9</td></tr>\n",
       "\t<tr><th scope=row>26</th><td>ace  </td><td>clubs   </td><td> 1</td></tr>\n",
       "\t<tr><th scope=row>12</th><td>two  </td><td>spades  </td><td> 2</td></tr>\n",
       "\t<tr><th scope=row>10</th><td>four </td><td>spades  </td><td> 4</td></tr>\n",
       "\t<tr><th scope=row>29</th><td>jack </td><td>diamonds</td><td>11</td></tr>\n",
       "\t<tr><th scope=row>40</th><td>king </td><td>hearts  </td><td>13</td></tr>\n",
       "\t<tr><th scope=row>47</th><td>six  </td><td>hearts  </td><td> 6</td></tr>\n",
       "\t<tr><th scope=row>1</th><td>king </td><td>spades  </td><td>13</td></tr>\n",
       "\t<tr><th scope=row>4</th><td>ten  </td><td>spades  </td><td>10</td></tr>\n",
       "\t<tr><th scope=row>43</th><td>ten  </td><td>hearts  </td><td>10</td></tr>\n",
       "\t<tr><th scope=row>52</th><td>ace  </td><td>hearts  </td><td> 1</td></tr>\n",
       "\t<tr><th scope=row>3</th><td>jack </td><td>spades  </td><td>11</td></tr>\n",
       "\t<tr><th scope=row>42</th><td>jack </td><td>hearts  </td><td>11</td></tr>\n",
       "\t<tr><th scope=row>22</th><td>five </td><td>clubs   </td><td> 5</td></tr>\n",
       "\t<tr><th scope=row>31</th><td>nine </td><td>diamonds</td><td> 9</td></tr>\n",
       "\t<tr><th scope=row>18</th><td>nine </td><td>clubs   </td><td> 9</td></tr>\n",
       "\t<tr><th scope=row>28</th><td>queen</td><td>diamonds</td><td>12</td></tr>\n",
       "\t<tr><th scope=row>49</th><td>four </td><td>hearts  </td><td> 4</td></tr>\n",
       "\t<tr><th scope=row>32</th><td>eight</td><td>diamonds</td><td> 8</td></tr>\n",
       "\t<tr><th scope=row>48</th><td>five </td><td>hearts  </td><td> 5</td></tr>\n",
       "\t<tr><th scope=row>9</th><td>five </td><td>spades  </td><td> 5</td></tr>\n",
       "\t<tr><th scope=row>38</th><td>two  </td><td>diamonds</td><td> 2</td></tr>\n",
       "\t<tr><th scope=row>6</th><td>eight</td><td>spades  </td><td> 8</td></tr>\n",
       "\t<tr><th scope=row>44</th><td>nine </td><td>hearts  </td><td> 9</td></tr>\n",
       "\t<tr><th scope=row>27</th><td>king </td><td>diamonds</td><td>13</td></tr>\n",
       "\t<tr><th scope=row>51</th><td>two  </td><td>hearts  </td><td> 2</td></tr>\n",
       "\t<tr><th scope=row>46</th><td>seven</td><td>hearts  </td><td> 7</td></tr>\n",
       "\t<tr><th scope=row>8</th><td>six  </td><td>spades  </td><td> 6</td></tr>\n",
       "\t<tr><th scope=row>35</th><td>five </td><td>diamonds</td><td> 5</td></tr>\n",
       "\t<tr><th scope=row>13</th><td>ace  </td><td>spades  </td><td> 1</td></tr>\n",
       "\t<tr><th scope=row>41</th><td>queen</td><td>hearts  </td><td>12</td></tr>\n",
       "\t<tr><th scope=row>19</th><td>eight</td><td>clubs   </td><td> 8</td></tr>\n",
       "\t<tr><th scope=row>23</th><td>four </td><td>clubs   </td><td> 4</td></tr>\n",
       "\t<tr><th scope=row>36</th><td>four </td><td>diamonds</td><td> 4</td></tr>\n",
       "\t<tr><th scope=row>11</th><td>three</td><td>spades  </td><td> 3</td></tr>\n",
       "\t<tr><th scope=row>15</th><td>queen</td><td>clubs   </td><td>12</td></tr>\n",
       "\t<tr><th scope=row>24</th><td>three</td><td>clubs   </td><td> 3</td></tr>\n",
       "\t<tr><th scope=row>30</th><td>ten  </td><td>diamonds</td><td>10</td></tr>\n",
       "\t<tr><th scope=row>21</th><td>six  </td><td>clubs   </td><td> 6</td></tr>\n",
       "\t<tr><th scope=row>45</th><td>eight</td><td>hearts  </td><td> 8</td></tr>\n",
       "\t<tr><th scope=row>39</th><td>ace  </td><td>diamonds</td><td> 1</td></tr>\n",
       "\t<tr><th scope=row>16</th><td>jack </td><td>clubs   </td><td>11</td></tr>\n",
       "\t<tr><th scope=row>34</th><td>six  </td><td>diamonds</td><td> 6</td></tr>\n",
       "\t<tr><th scope=row>50</th><td>three</td><td>hearts  </td><td> 3</td></tr>\n",
       "\t<tr><th scope=row>17</th><td>ten  </td><td>clubs   </td><td>10</td></tr>\n",
       "\t<tr><th scope=row>33</th><td>seven</td><td>diamonds</td><td> 7</td></tr>\n",
       "\t<tr><th scope=row>37</th><td>three</td><td>diamonds</td><td> 3</td></tr>\n",
       "</tbody>\n",
       "</table>\n"
      ],
      "text/latex": [
       "A data.frame: 52 × 3\n",
       "\\begin{tabular}{r|lll}\n",
       "  & face & suit & value\\\\\n",
       "  & <chr> & <chr> & <int>\\\\\n",
       "\\hline\n",
       "\t7 & seven & spades   &  7\\\\\n",
       "\t20 & seven & clubs    &  7\\\\\n",
       "\t25 & two   & clubs    &  2\\\\\n",
       "\t14 & king  & clubs    & 13\\\\\n",
       "\t2 & queen & spades   & 12\\\\\n",
       "\t5 & nine  & spades   &  9\\\\\n",
       "\t26 & ace   & clubs    &  1\\\\\n",
       "\t12 & two   & spades   &  2\\\\\n",
       "\t10 & four  & spades   &  4\\\\\n",
       "\t29 & jack  & diamonds & 11\\\\\n",
       "\t40 & king  & hearts   & 13\\\\\n",
       "\t47 & six   & hearts   &  6\\\\\n",
       "\t1 & king  & spades   & 13\\\\\n",
       "\t4 & ten   & spades   & 10\\\\\n",
       "\t43 & ten   & hearts   & 10\\\\\n",
       "\t52 & ace   & hearts   &  1\\\\\n",
       "\t3 & jack  & spades   & 11\\\\\n",
       "\t42 & jack  & hearts   & 11\\\\\n",
       "\t22 & five  & clubs    &  5\\\\\n",
       "\t31 & nine  & diamonds &  9\\\\\n",
       "\t18 & nine  & clubs    &  9\\\\\n",
       "\t28 & queen & diamonds & 12\\\\\n",
       "\t49 & four  & hearts   &  4\\\\\n",
       "\t32 & eight & diamonds &  8\\\\\n",
       "\t48 & five  & hearts   &  5\\\\\n",
       "\t9 & five  & spades   &  5\\\\\n",
       "\t38 & two   & diamonds &  2\\\\\n",
       "\t6 & eight & spades   &  8\\\\\n",
       "\t44 & nine  & hearts   &  9\\\\\n",
       "\t27 & king  & diamonds & 13\\\\\n",
       "\t51 & two   & hearts   &  2\\\\\n",
       "\t46 & seven & hearts   &  7\\\\\n",
       "\t8 & six   & spades   &  6\\\\\n",
       "\t35 & five  & diamonds &  5\\\\\n",
       "\t13 & ace   & spades   &  1\\\\\n",
       "\t41 & queen & hearts   & 12\\\\\n",
       "\t19 & eight & clubs    &  8\\\\\n",
       "\t23 & four  & clubs    &  4\\\\\n",
       "\t36 & four  & diamonds &  4\\\\\n",
       "\t11 & three & spades   &  3\\\\\n",
       "\t15 & queen & clubs    & 12\\\\\n",
       "\t24 & three & clubs    &  3\\\\\n",
       "\t30 & ten   & diamonds & 10\\\\\n",
       "\t21 & six   & clubs    &  6\\\\\n",
       "\t45 & eight & hearts   &  8\\\\\n",
       "\t39 & ace   & diamonds &  1\\\\\n",
       "\t16 & jack  & clubs    & 11\\\\\n",
       "\t34 & six   & diamonds &  6\\\\\n",
       "\t50 & three & hearts   &  3\\\\\n",
       "\t17 & ten   & clubs    & 10\\\\\n",
       "\t33 & seven & diamonds &  7\\\\\n",
       "\t37 & three & diamonds &  3\\\\\n",
       "\\end{tabular}\n"
      ],
      "text/markdown": [
       "\n",
       "A data.frame: 52 × 3\n",
       "\n",
       "| <!--/--> | face &lt;chr&gt; | suit &lt;chr&gt; | value &lt;int&gt; |\n",
       "|---|---|---|---|\n",
       "| 7 | seven | spades   |  7 |\n",
       "| 20 | seven | clubs    |  7 |\n",
       "| 25 | two   | clubs    |  2 |\n",
       "| 14 | king  | clubs    | 13 |\n",
       "| 2 | queen | spades   | 12 |\n",
       "| 5 | nine  | spades   |  9 |\n",
       "| 26 | ace   | clubs    |  1 |\n",
       "| 12 | two   | spades   |  2 |\n",
       "| 10 | four  | spades   |  4 |\n",
       "| 29 | jack  | diamonds | 11 |\n",
       "| 40 | king  | hearts   | 13 |\n",
       "| 47 | six   | hearts   |  6 |\n",
       "| 1 | king  | spades   | 13 |\n",
       "| 4 | ten   | spades   | 10 |\n",
       "| 43 | ten   | hearts   | 10 |\n",
       "| 52 | ace   | hearts   |  1 |\n",
       "| 3 | jack  | spades   | 11 |\n",
       "| 42 | jack  | hearts   | 11 |\n",
       "| 22 | five  | clubs    |  5 |\n",
       "| 31 | nine  | diamonds |  9 |\n",
       "| 18 | nine  | clubs    |  9 |\n",
       "| 28 | queen | diamonds | 12 |\n",
       "| 49 | four  | hearts   |  4 |\n",
       "| 32 | eight | diamonds |  8 |\n",
       "| 48 | five  | hearts   |  5 |\n",
       "| 9 | five  | spades   |  5 |\n",
       "| 38 | two   | diamonds |  2 |\n",
       "| 6 | eight | spades   |  8 |\n",
       "| 44 | nine  | hearts   |  9 |\n",
       "| 27 | king  | diamonds | 13 |\n",
       "| 51 | two   | hearts   |  2 |\n",
       "| 46 | seven | hearts   |  7 |\n",
       "| 8 | six   | spades   |  6 |\n",
       "| 35 | five  | diamonds |  5 |\n",
       "| 13 | ace   | spades   |  1 |\n",
       "| 41 | queen | hearts   | 12 |\n",
       "| 19 | eight | clubs    |  8 |\n",
       "| 23 | four  | clubs    |  4 |\n",
       "| 36 | four  | diamonds |  4 |\n",
       "| 11 | three | spades   |  3 |\n",
       "| 15 | queen | clubs    | 12 |\n",
       "| 24 | three | clubs    |  3 |\n",
       "| 30 | ten   | diamonds | 10 |\n",
       "| 21 | six   | clubs    |  6 |\n",
       "| 45 | eight | hearts   |  8 |\n",
       "| 39 | ace   | diamonds |  1 |\n",
       "| 16 | jack  | clubs    | 11 |\n",
       "| 34 | six   | diamonds |  6 |\n",
       "| 50 | three | hearts   |  3 |\n",
       "| 17 | ten   | clubs    | 10 |\n",
       "| 33 | seven | diamonds |  7 |\n",
       "| 37 | three | diamonds |  3 |\n",
       "\n"
      ],
      "text/plain": [
       "   face  suit     value\n",
       "7  seven spades    7   \n",
       "20 seven clubs     7   \n",
       "25 two   clubs     2   \n",
       "14 king  clubs    13   \n",
       "2  queen spades   12   \n",
       "5  nine  spades    9   \n",
       "26 ace   clubs     1   \n",
       "12 two   spades    2   \n",
       "10 four  spades    4   \n",
       "29 jack  diamonds 11   \n",
       "40 king  hearts   13   \n",
       "47 six   hearts    6   \n",
       "1  king  spades   13   \n",
       "4  ten   spades   10   \n",
       "43 ten   hearts   10   \n",
       "52 ace   hearts    1   \n",
       "3  jack  spades   11   \n",
       "42 jack  hearts   11   \n",
       "22 five  clubs     5   \n",
       "31 nine  diamonds  9   \n",
       "18 nine  clubs     9   \n",
       "28 queen diamonds 12   \n",
       "49 four  hearts    4   \n",
       "32 eight diamonds  8   \n",
       "48 five  hearts    5   \n",
       "9  five  spades    5   \n",
       "38 two   diamonds  2   \n",
       "6  eight spades    8   \n",
       "44 nine  hearts    9   \n",
       "27 king  diamonds 13   \n",
       "51 two   hearts    2   \n",
       "46 seven hearts    7   \n",
       "8  six   spades    6   \n",
       "35 five  diamonds  5   \n",
       "13 ace   spades    1   \n",
       "41 queen hearts   12   \n",
       "19 eight clubs     8   \n",
       "23 four  clubs     4   \n",
       "36 four  diamonds  4   \n",
       "11 three spades    3   \n",
       "15 queen clubs    12   \n",
       "24 three clubs     3   \n",
       "30 ten   diamonds 10   \n",
       "21 six   clubs     6   \n",
       "45 eight hearts    8   \n",
       "39 ace   diamonds  1   \n",
       "16 jack  clubs    11   \n",
       "34 six   diamonds  6   \n",
       "50 three hearts    3   \n",
       "17 ten   clubs    10   \n",
       "33 seven diamonds  7   \n",
       "37 three diamonds  3   "
      ]
     },
     "metadata": {},
     "output_type": "display_data"
    }
   ],
   "source": [
    "deck2"
   ]
  },
  {
   "cell_type": "markdown",
   "id": "ced6a22f",
   "metadata": {
    "deletable": false,
    "editable": false,
    "run_control": {
     "frozen": true
    }
   },
   "source": [
    "# 7. Modifying values"
   ]
  },
  {
   "cell_type": "code",
   "execution_count": 17,
   "id": "54b22690",
   "metadata": {},
   "outputs": [
    {
     "data": {
      "text/html": [
       "<style>\n",
       ".list-inline {list-style: none; margin:0; padding: 0}\n",
       ".list-inline>li {display: inline-block}\n",
       ".list-inline>li:not(:last-child)::after {content: \"\\00b7\"; padding: 0 .5ex}\n",
       "</style>\n",
       "<ol class=list-inline><li>1</li><li>2</li><li>3</li><li>4</li><li>5</li><li>6</li><li>&lt;NA&gt;</li><li>1</li></ol>\n"
      ],
      "text/latex": [
       "\\begin{enumerate*}\n",
       "\\item 1\n",
       "\\item 2\n",
       "\\item 3\n",
       "\\item 4\n",
       "\\item 5\n",
       "\\item 6\n",
       "\\item <NA>\n",
       "\\item 1\n",
       "\\end{enumerate*}\n"
      ],
      "text/markdown": [
       "1. 1\n",
       "2. 2\n",
       "3. 3\n",
       "4. 4\n",
       "5. 5\n",
       "6. 6\n",
       "7. &lt;NA&gt;\n",
       "8. 1\n",
       "\n",
       "\n"
      ],
      "text/plain": [
       "[1]  1  2  3  4  5  6 NA  1"
      ]
     },
     "metadata": {},
     "output_type": "display_data"
    }
   ],
   "source": [
    "vec = 1:6\n",
    "vec[8] = 1\n",
    "vec"
   ]
  },
  {
   "cell_type": "code",
   "execution_count": 23,
   "id": "2b438a1b",
   "metadata": {},
   "outputs": [],
   "source": [
    "vec[7] = NA"
   ]
  },
  {
   "cell_type": "code",
   "execution_count": 24,
   "id": "2b7b0bfa",
   "metadata": {},
   "outputs": [
    {
     "data": {
      "text/html": [
       "<style>\n",
       ".list-inline {list-style: none; margin:0; padding: 0}\n",
       ".list-inline>li {display: inline-block}\n",
       ".list-inline>li:not(:last-child)::after {content: \"\\00b7\"; padding: 0 .5ex}\n",
       "</style>\n",
       "<ol class=list-inline><li>1</li><li>2</li><li>3</li><li>4</li><li>5</li><li>6</li><li>&lt;NA&gt;</li><li>1</li></ol>\n"
      ],
      "text/latex": [
       "\\begin{enumerate*}\n",
       "\\item 1\n",
       "\\item 2\n",
       "\\item 3\n",
       "\\item 4\n",
       "\\item 5\n",
       "\\item 6\n",
       "\\item <NA>\n",
       "\\item 1\n",
       "\\end{enumerate*}\n"
      ],
      "text/markdown": [
       "1. 1\n",
       "2. 2\n",
       "3. 3\n",
       "4. 4\n",
       "5. 5\n",
       "6. 6\n",
       "7. &lt;NA&gt;\n",
       "8. 1\n",
       "\n",
       "\n"
      ],
      "text/plain": [
       "[1]  1  2  3  4  5  6 NA  1"
      ]
     },
     "metadata": {},
     "output_type": "display_data"
    }
   ],
   "source": [
    "vec"
   ]
  },
  {
   "cell_type": "markdown",
   "id": "6d034fa2",
   "metadata": {
    "deletable": false,
    "editable": false,
    "run_control": {
     "frozen": true
    }
   },
   "source": [
    "# 8. Environments"
   ]
  },
  {
   "cell_type": "code",
   "execution_count": 28,
   "id": "61abafbf",
   "metadata": {},
   "outputs": [
    {
     "data": {
      "text/plain": [
       "   label                            name               \n",
       "1  <environment: R_GlobalEnv>       \"\"                 \n",
       "2  <environment: package:pryr>      \"package:pryr\"     \n",
       "3  <environment: 0x7f80d36372b0>    \"jupyter:irkernel\" \n",
       "4  <environment: package:stats>     \"package:stats\"    \n",
       "5  <environment: package:graphics>  \"package:graphics\" \n",
       "6  <environment: package:grDevices> \"package:grDevices\"\n",
       "7  <environment: package:utils>     \"package:utils\"    \n",
       "8  <environment: package:datasets>  \"package:datasets\" \n",
       "9  <environment: package:methods>   \"package:methods\"  \n",
       "10 <environment: 0x7f80f2aa2198>    \"Autoloads\"        \n",
       "11 <environment: base>              \"\"                 \n",
       "12 <environment: R_EmptyEnv>        \"\"                 "
      ]
     },
     "metadata": {},
     "output_type": "display_data"
    }
   ],
   "source": [
    "# install.packages(\"pryr\")\n",
    "library(pryr)\n",
    "parenvs(all=TRUE)"
   ]
  },
  {
   "cell_type": "code",
   "execution_count": null,
   "id": "15ff02c2",
   "metadata": {},
   "outputs": [],
   "source": []
  },
  {
   "cell_type": "code",
   "execution_count": null,
   "id": "b40ea01c",
   "metadata": {},
   "outputs": [],
   "source": []
  }
 ],
 "metadata": {
  "kernelspec": {
   "display_name": "R",
   "language": "R",
   "name": "ir"
  },
  "language_info": {
   "codemirror_mode": "r",
   "file_extension": ".r",
   "mimetype": "text/x-r-source",
   "name": "R",
   "pygments_lexer": "r",
   "version": "4.1.2"
  }
 },
 "nbformat": 4,
 "nbformat_minor": 5
}
