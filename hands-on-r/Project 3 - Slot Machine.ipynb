{
 "cells": [
  {
   "cell_type": "markdown",
   "id": "dec08f79",
   "metadata": {
    "deletable": false,
    "editable": false,
    "run_control": {
     "frozen": true
    }
   },
   "source": [
    "# 9. Programs"
   ]
  },
  {
   "cell_type": "code",
   "execution_count": 1,
   "id": "336f391b",
   "metadata": {},
   "outputs": [],
   "source": [
    "get_symbols = function() {\n",
    "    wheel = c(\"DD\",  \"7\", \"BBB\", \"BB\",  \"B\",  \"C\",  \"0\")\n",
    "    prob  = c(0.03, 0.03,  0.06, 0.10, 0.25, 0.01, 0.52)\n",
    "    sample(wheel, size=3, replace=TRUE, prob=prob)\n",
    "}"
   ]
  },
  {
   "cell_type": "code",
   "execution_count": 2,
   "id": "4c93c8ac",
   "metadata": {},
   "outputs": [
    {
     "data": {
      "text/html": [
       "<style>\n",
       ".list-inline {list-style: none; margin:0; padding: 0}\n",
       ".list-inline>li {display: inline-block}\n",
       ".list-inline>li:not(:last-child)::after {content: \"\\00b7\"; padding: 0 .5ex}\n",
       "</style>\n",
       "<ol class=list-inline><li>'B'</li><li>'BBB'</li><li>'7'</li></ol>\n"
      ],
      "text/latex": [
       "\\begin{enumerate*}\n",
       "\\item 'B'\n",
       "\\item 'BBB'\n",
       "\\item '7'\n",
       "\\end{enumerate*}\n"
      ],
      "text/markdown": [
       "1. 'B'\n",
       "2. 'BBB'\n",
       "3. '7'\n",
       "\n",
       "\n"
      ],
      "text/plain": [
       "[1] \"B\"   \"BBB\" \"7\"  "
      ]
     },
     "metadata": {},
     "output_type": "display_data"
    }
   ],
   "source": [
    "get_symbols()"
   ]
  },
  {
   "cell_type": "code",
   "execution_count": 4,
   "id": "49874ab3",
   "metadata": {},
   "outputs": [],
   "source": [
    "score <- function (symbols) {\n",
    "  # identify case\n",
    "  same <- symbols[1] == symbols[2] && symbols[2] == symbols[3]\n",
    "  bars <- symbols %in% c(\"B\", \"BB\", \"BBB\")\n",
    "  \n",
    "  # get prize\n",
    "  if (same) {\n",
    "    payouts <- c(\"DD\" = 100, \"7\" = 80, \"BBB\" = 40, \"BB\" = 25, \n",
    "      \"B\" = 10, \"C\" = 10, \"0\" = 0)\n",
    "    prize <- unname(payouts[symbols[1]])\n",
    "  } else if (all(bars)) {\n",
    "    prize <- 5\n",
    "  } else {\n",
    "    cherries <- sum(symbols == \"C\")\n",
    "    prize <- c(0, 2, 5)[cherries + 1]\n",
    "  }\n",
    "  \n",
    "  # adjust for diamonds\n",
    "  diamonds <- sum(symbols == \"DD\")\n",
    "  prize * 2 ^ diamonds\n",
    "}"
   ]
  },
  {
   "cell_type": "code",
   "execution_count": 7,
   "id": "19aa37b1",
   "metadata": {},
   "outputs": [
    {
     "data": {
      "text/html": [
       "8"
      ],
      "text/latex": [
       "8"
      ],
      "text/markdown": [
       "8"
      ],
      "text/plain": [
       "[1] 8"
      ]
     },
     "metadata": {},
     "output_type": "display_data"
    }
   ],
   "source": [
    "score(c(\"C\", \"DD\", \"DD\"))"
   ]
  },
  {
   "cell_type": "code",
   "execution_count": 8,
   "id": "67d3743d",
   "metadata": {},
   "outputs": [],
   "source": [
    "?unique"
   ]
  },
  {
   "cell_type": "markdown",
   "id": "27679e6a",
   "metadata": {
    "deletable": false,
    "editable": false,
    "run_control": {
     "frozen": true
    }
   },
   "source": [
    "# 10. S3"
   ]
  },
  {
   "cell_type": "code",
   "execution_count": 25,
   "id": "e0a6d310",
   "metadata": {},
   "outputs": [],
   "source": [
    "play = function() {\n",
    "    symbols = get_symbols()\n",
    "    structure(score(symbols), symbols=symbols, class=\"slots\")\n",
    "}"
   ]
  },
  {
   "cell_type": "code",
   "execution_count": 26,
   "id": "010394aa",
   "metadata": {},
   "outputs": [],
   "source": [
    "three_play = play()"
   ]
  },
  {
   "cell_type": "code",
   "execution_count": 27,
   "id": "3b21e306",
   "metadata": {},
   "outputs": [
    {
     "name": "stdout",
     "output_type": "stream",
     "text": [
      "DD B 0\n",
      "$0"
     ]
    }
   ],
   "source": [
    "print(three_play)"
   ]
  },
  {
   "cell_type": "code",
   "execution_count": 19,
   "id": "60013b2b",
   "metadata": {},
   "outputs": [],
   "source": [
    "slot_display = function(prize) {\n",
    "    symbols = attr(prize, \"symbols\")\n",
    "    symbols = paste(symbols, collapse=\" \")\n",
    "    string = paste(symbols, prize, sep=\"\\n$\")\n",
    "    cat(string)\n",
    "}"
   ]
  },
  {
   "cell_type": "code",
   "execution_count": 20,
   "id": "62ec195b",
   "metadata": {},
   "outputs": [
    {
     "name": "stdout",
     "output_type": "stream",
     "text": [
      "BB B 0\n",
      "$0"
     ]
    }
   ],
   "source": [
    "slot_display(three_play)"
   ]
  },
  {
   "cell_type": "code",
   "execution_count": 22,
   "id": "edd8c73a",
   "metadata": {},
   "outputs": [
    {
     "data": {
      "text/html": [
       "0"
      ],
      "text/latex": [
       "0"
      ],
      "text/markdown": [
       "0"
      ],
      "text/plain": [
       "[1] 0\n",
       "attr(,\"symbols\")\n",
       "[1] \"BBB\" \"0\"   \"B\"  "
      ]
     },
     "metadata": {},
     "output_type": "display_data"
    }
   ],
   "source": [
    "play()"
   ]
  },
  {
   "cell_type": "code",
   "execution_count": 23,
   "id": "afbbbedc",
   "metadata": {},
   "outputs": [],
   "source": [
    "print.slots = function(x, ...) {\n",
    "    slot_display(x)\n",
    "}"
   ]
  },
  {
   "cell_type": "markdown",
   "id": "93e3ccfc",
   "metadata": {
    "deletable": false,
    "editable": false,
    "run_control": {
     "frozen": true
    }
   },
   "source": [
    "# 11. Loops"
   ]
  },
  {
   "cell_type": "code",
   "execution_count": 30,
   "id": "f92e9d8d",
   "metadata": {},
   "outputs": [],
   "source": [
    "wheel = c(\"DD\", \"7\", \"BBB\", \"BB\", \"B\", \"C\", \"0\")\n",
    "probs = c(\"DD\" = 0.03, \"7\" = 0.03, \"BBB\" = 0.06, \"BB\" = 0.1, \"B\" = 0.25, \"C\" = 0.01, \"0\" = 0.52)\n",
    "combos = expand.grid(wheel, wheel, wheel, stringsAsFactors = FALSE)"
   ]
  },
  {
   "cell_type": "code",
   "execution_count": 31,
   "id": "e3e03926",
   "metadata": {},
   "outputs": [],
   "source": [
    "combos$probs = probs[combos$Var1] * probs[combos$Var2] * probs[combos$Var3]"
   ]
  },
  {
   "cell_type": "code",
   "execution_count": 33,
   "id": "2572af99",
   "metadata": {},
   "outputs": [],
   "source": [
    "combos$prize = NA"
   ]
  },
  {
   "cell_type": "code",
   "execution_count": 47,
   "id": "74a1fbea",
   "metadata": {},
   "outputs": [],
   "source": [
    "for (i in 1:nrow(combos)) {\n",
    "    combos[i, \"prize\"] = score(c(combos[i, \"Var1\"], combos[i, \"Var2\"], combos[i, \"Var3\"]))\n",
    "}"
   ]
  },
  {
   "cell_type": "code",
   "execution_count": 49,
   "id": "235c9572",
   "metadata": {},
   "outputs": [
    {
     "name": "stdout",
     "output_type": "stream",
     "text": [
      "[1] 0.538014\n"
     ]
    }
   ],
   "source": [
    "expected = sum(combos$probs * combos$prize)\n",
    "print(expected)"
   ]
  },
  {
   "cell_type": "markdown",
   "id": "ac7a0b1c",
   "metadata": {
    "deletable": false,
    "editable": false,
    "run_control": {
     "frozen": true
    }
   },
   "source": [
    "# 12. Speed"
   ]
  },
  {
   "cell_type": "code",
   "execution_count": 54,
   "id": "d84ceeba",
   "metadata": {},
   "outputs": [],
   "source": [
    "abs_loop = function(vec) {\n",
    "    for (i in 1:length(vec)) {\n",
    "        if (vec[i] < 0) {\n",
    "            vec[i] = -vec[i]\n",
    "        }\n",
    "    }\n",
    "    vec\n",
    "}\n",
    "\n",
    "abs_sets = function(vec) {\n",
    "    negs = vec < 0\n",
    "    vec[negs] = vec[negs] * -1\n",
    "    vec\n",
    "}"
   ]
  },
  {
   "cell_type": "code",
   "execution_count": 55,
   "id": "ac08b2c9",
   "metadata": {},
   "outputs": [],
   "source": [
    "long = rep(c(-1, 1), 5000000)"
   ]
  },
  {
   "cell_type": "code",
   "execution_count": 57,
   "id": "efbe1e3e",
   "metadata": {},
   "outputs": [
    {
     "name": "stdout",
     "output_type": "stream",
     "text": [
      "   user  system elapsed \n",
      "  0.809   0.002   0.812 \n",
      "   user  system elapsed \n",
      "  0.056   0.022   0.084 \n",
      "   user  system elapsed \n",
      "  0.004   0.000   0.005 \n"
     ]
    }
   ],
   "source": [
    "print(system.time(abs_loop(long)))\n",
    "print(system.time(abs_sets(long)))\n",
    "print(system.time(abs(long)))"
   ]
  },
  {
   "cell_type": "markdown",
   "id": "329bde0b",
   "metadata": {},
   "source": [
    "### Exercise 12.2"
   ]
  },
  {
   "cell_type": "code",
   "execution_count": 67,
   "id": "c7d57065",
   "metadata": {},
   "outputs": [],
   "source": [
    "change_symbols_vec = function(vec) {\n",
    "    symbol_map = c(\"DD\" = \"joker\", \"C\" = \"ace\", \"7\" = \"king\", \"B\" = \"queen\", \"BB\" = \"jack\", \"BBB\" = \"ten\")\n",
    "    \n",
    "    vec[!(vec %in% names(symbol_map))] = \"nine\"\n",
    "    vec[vec %in% names(symbol_map)] = symbol_map[vec[vec %in% names(symbol_map)]]\n",
    "    \n",
    "    vec\n",
    "}"
   ]
  },
  {
   "cell_type": "code",
   "execution_count": 68,
   "id": "a782d09e",
   "metadata": {},
   "outputs": [
    {
     "data": {
      "text/html": [
       "<style>\n",
       ".list-inline {list-style: none; margin:0; padding: 0}\n",
       ".list-inline>li {display: inline-block}\n",
       ".list-inline>li:not(:last-child)::after {content: \"\\00b7\"; padding: 0 .5ex}\n",
       "</style>\n",
       "<ol class=list-inline><li>'joker'</li><li>'ace'</li><li>'king'</li><li>'queen'</li><li>'jack'</li><li>'ten'</li><li>'nine'</li></ol>\n"
      ],
      "text/latex": [
       "\\begin{enumerate*}\n",
       "\\item 'joker'\n",
       "\\item 'ace'\n",
       "\\item 'king'\n",
       "\\item 'queen'\n",
       "\\item 'jack'\n",
       "\\item 'ten'\n",
       "\\item 'nine'\n",
       "\\end{enumerate*}\n"
      ],
      "text/markdown": [
       "1. 'joker'\n",
       "2. 'ace'\n",
       "3. 'king'\n",
       "4. 'queen'\n",
       "5. 'jack'\n",
       "6. 'ten'\n",
       "7. 'nine'\n",
       "\n",
       "\n"
      ],
      "text/plain": [
       "[1] \"joker\" \"ace\"   \"king\"  \"queen\" \"jack\"  \"ten\"   \"nine\" "
      ]
     },
     "metadata": {},
     "output_type": "display_data"
    }
   ],
   "source": [
    "vec = c(\"DD\", \"C\", \"7\", \"B\", \"BB\", \"BBB\", \"0\")\n",
    "change_symbols_vec(vec)"
   ]
  },
  {
   "cell_type": "code",
   "execution_count": 61,
   "id": "4c1922ef",
   "metadata": {},
   "outputs": [
    {
     "data": {
      "text/html": [
       "<strong>$names</strong> = <style>\n",
       ".list-inline {list-style: none; margin:0; padding: 0}\n",
       ".list-inline>li {display: inline-block}\n",
       ".list-inline>li:not(:last-child)::after {content: \"\\00b7\"; padding: 0 .5ex}\n",
       "</style>\n",
       "<ol class=list-inline><li>'DD'</li><li>'C'</li><li>'7'</li><li>'B'</li><li>'BB'</li><li>'BBB'</li></ol>\n"
      ],
      "text/latex": [
       "\\textbf{\\$names} = \\begin{enumerate*}\n",
       "\\item 'DD'\n",
       "\\item 'C'\n",
       "\\item '7'\n",
       "\\item 'B'\n",
       "\\item 'BB'\n",
       "\\item 'BBB'\n",
       "\\end{enumerate*}\n"
      ],
      "text/markdown": [
       "**$names** = 1. 'DD'\n",
       "2. 'C'\n",
       "3. '7'\n",
       "4. 'B'\n",
       "5. 'BB'\n",
       "6. 'BBB'\n",
       "\n",
       "\n"
      ],
      "text/plain": [
       "$names\n",
       "[1] \"DD\"  \"C\"   \"7\"   \"B\"   \"BB\"  \"BBB\"\n"
      ]
     },
     "metadata": {},
     "output_type": "display_data"
    }
   ],
   "source": []
  },
  {
   "cell_type": "code",
   "execution_count": null,
   "id": "c70f69b0",
   "metadata": {},
   "outputs": [],
   "source": []
  }
 ],
 "metadata": {
  "kernelspec": {
   "display_name": "R",
   "language": "R",
   "name": "ir"
  },
  "language_info": {
   "codemirror_mode": "r",
   "file_extension": ".r",
   "mimetype": "text/x-r-source",
   "name": "R",
   "pygments_lexer": "r",
   "version": "4.1.2"
  }
 },
 "nbformat": 4,
 "nbformat_minor": 5
}
